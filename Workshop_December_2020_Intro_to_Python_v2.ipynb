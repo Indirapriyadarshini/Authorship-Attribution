{
  "nbformat": 4,
  "nbformat_minor": 0,
  "metadata": {
    "kernelspec": {
      "display_name": "Python 3",
      "language": "python",
      "name": "python3"
    },
    "language_info": {
      "codemirror_mode": {
        "name": "ipython",
        "version": 3
      },
      "file_extension": ".py",
      "mimetype": "text/x-python",
      "name": "python",
      "nbconvert_exporter": "python",
      "pygments_lexer": "ipython3",
      "version": "3.6.10"
    },
    "colab": {
      "name": "Workshop December 2020 - Intro to Python -v2.ipynb",
      "provenance": [],
      "collapsed_sections": [
        "HwAeTUCedGW5",
        "KBeEOiqedGW6",
        "2ocAlsvndGW6",
        "YB34jTBbdGW7",
        "CHZufx5JdGW8",
        "eKeJFr0wdGW8",
        "GLSMrADRdGXP",
        "-URHnKkcdGXc",
        "997IFHxbdGXi",
        "mwIqo79FdGXn",
        "-pYr0hNrdGX7",
        "JrSUB5ymdGX-",
        "1dh0GfixdGYo",
        "DnKPYz0TdGYp",
        "-chLQR6HdGYr",
        "FjxxT4IYdGYs",
        "os5yUgaNdGYs",
        "8i5V2efRdGYs",
        "HnvSzeK9dGYt",
        "HOvnPXBXdGYv",
        "pTg-qAFbdGYv",
        "tp2axhRBdGYy",
        "DArdzoWCdGYz",
        "pWDipZOcdGY8",
        "4uCxxryHdGY8",
        "MToThVuMdGY8",
        "796Wv-lqdGY9",
        "siNXWQ-5dGY9",
        "0hFwFiakdGY9",
        "xfHb0RvXdGY9",
        "-ZVitOYddGY-",
        "l1D9yXv6dGY-",
        "4Wbs83pSdGZn",
        "EI1LNSUSdGZ_",
        "YzysMelndGZ_",
        "yGWiC2XZdGZ_",
        "2SjupROKdGZ_",
        "ImsnpDwPdGZ_",
        "TM0zQ-nEdGaA",
        "bDytm2RfdGaA",
        "ATHp66HfdGaP",
        "0Q1AYJJOdGaP",
        "TtnqNriMdGaQ",
        "0Qxb_zRxdGaR",
        "o7pkVsJkdGaR",
        "Z_5KQShodGaS",
        "tNjs9W7jdGaS",
        "RTGwMAAEdGae",
        "xCujaB5pdGah",
        "2rT1aPpRdGah",
        "krDUb6gLdGah",
        "nu8utkCxdGah",
        "0w1Dny0YdGbR",
        "9rTxSy8adGbT",
        "HpO_p9VxdGbV",
        "NE5jwfildGbV",
        "L1ySN9NHdGbY",
        "LEwNcv9ZdGbg",
        "0d_SYUCmdGbi",
        "Cw9Ww4wddGbj",
        "9cgbbJpudGbk",
        "KFwOfBo4dGbo",
        "T3e_atL5dGbo",
        "oxDQtz_tdGbq"
      ],
      "toc_visible": true,
      "include_colab_link": true
    }
  },
  "cells": [
    {
      "cell_type": "markdown",
      "metadata": {
        "id": "view-in-github",
        "colab_type": "text"
      },
      "source": [
        "<a href=\"https://colab.research.google.com/github/Indirapriyadarshini/Authorship-Attribution/blob/master/Workshop_December_2020_Intro_to_Python_v2.ipynb\" target=\"_parent\"><img src=\"https://colab.research.google.com/assets/colab-badge.svg\" alt=\"Open In Colab\"/></a>"
      ]
    },
    {
      "cell_type": "markdown",
      "metadata": {
        "id": "ZaTEYFiSdGWy"
      },
      "source": [
        "# <font color=darkgreen>Python</font>\n",
        "## Dr. Scharff\n",
        "## References : Dr. Parisi & Dr. Scharff slides"
      ]
    },
    {
      "cell_type": "markdown",
      "metadata": {
        "id": "OBD_CXnOMwR9"
      },
      "source": [
        "<table>\n",
        "   <img src=\"http://webpage.pace.edu/fparisi/STEM-2020/images/Logo.jpg\"\n",
        "             width=\"800\">\n",
        "</table>"
      ]
    },
    {
      "cell_type": "markdown",
      "metadata": {
        "id": "uiyuupMedGW4"
      },
      "source": [
        "# <font color=darkgreen>Introduction</font>\n"
      ]
    },
    {
      "cell_type": "markdown",
      "metadata": {
        "id": "4VL2umu8dGW4"
      },
      "source": [
        "<table>\n",
        "    <img src=\"http://webpage.pace.edu/fparisi/STEM-2020/images/cartoon.jpg\"\n",
        "         width=\"800\"  >\n",
        "</table>\n",
        "\n",
        "Source: https://xkcd.com/353/ \n",
        "***"
      ]
    },
    {
      "cell_type": "markdown",
      "metadata": {
        "id": "fYX9AnbgdGW5"
      },
      "source": [
        "# <font color=darkblue>What is Python?</font>\n",
        "- Python was designed by Guido van Rossum and first released in 1991\n",
        "- It is named after the British comedy troupe Monty Python's Flying Circus\n",
        "- It is an interpreted language\n",
        "- Its design is distinguished by its emphasis on readability, simplicity and explicitness with respect to other languages such as Java\n",
        "- Libraries enhance the capabilities of Python. They are here to help you, developers, and make it faster to program!\n",
        "- We will look at the following libraries together: NumPy, pandas, and matplotlib"
      ]
    },
    {
      "cell_type": "markdown",
      "metadata": {
        "id": "HwAeTUCedGW5"
      },
      "source": [
        "# <font color=darkblue>Getting Help</font>\n",
        "#### Python official documentation https://docs.python.org/3/ \n",
        "\n",
        "#### StackOverflow https://stackoverflow.com \n",
        "***"
      ]
    },
    {
      "cell_type": "markdown",
      "metadata": {
        "id": "KBeEOiqedGW6"
      },
      "source": [
        "# <font color=darkblue>Toolbox</font>\n",
        "\n",
        "* We will use: Google Colab https://colab.research.google.com\n",
        "<br>\n",
        "\n",
        "* Other options: \n",
        "\n",
        "* You may decide to install Python and some tools locally\n",
        "\n",
        "  * Python https://www.python.org/downloads <br>\n",
        "  * Anaconda (or Miniconda) for Jupyter notebooks https://www.anaconda.com/distribution/#download-section <br>\n",
        "  * Visual studio code with the Python extension <br> https://code.visualstudio.com <br> https://code.visualstudio.com/docs/languages/python <br>\n",
        "  * SublimeText \n",
        "https://www.sublimetext.com <br>\n",
        "* Packages for Data Science: numpy, pandas, scikit-learn, matplotlib, seaborn <br>\n",
        "* Other packages: statistics, statsmodel, scipy__"
      ]
    },
    {
      "cell_type": "markdown",
      "metadata": {
        "id": "2ocAlsvndGW6"
      },
      "source": [
        "# <font color=darkred>Let’s start coding...</font>"
      ]
    },
    {
      "cell_type": "markdown",
      "metadata": {
        "id": "dL7rBP64g2wq"
      },
      "source": [
        "# <font color=darkblue>What is Google Colab?</font>\n",
        "\n",
        "* Text and code, like an interactive book\n",
        "* Table of contents\n",
        "* Connect\n",
        "* Share\n",
        "* Comments \n",
        "\n",
        "# <font color=darkblue>What is a notebook?</font>\n",
        "\n",
        "##### This document *is* a notebook!\n",
        "\n",
        "\n",
        "***"
      ]
    },
    {
      "cell_type": "markdown",
      "metadata": {
        "id": "YB34jTBbdGW7"
      },
      "source": [
        "# <font color=darkblue>Comments</font>\n",
        "\n",
        "- Comments are introduced by # in Python\n",
        "- Multiple line comments are between triple-quote strings '''\n",
        "- Comments are important for code evolution and maintenance"
      ]
    },
    {
      "cell_type": "code",
      "metadata": {
        "id": "iZbNckJErOLD"
      },
      "source": [
        "# Comment"
      ],
      "execution_count": null,
      "outputs": []
    },
    {
      "cell_type": "markdown",
      "metadata": {
        "id": "eKeJFr0wdGW8"
      },
      "source": [
        "# <font color=darkblue>Calculating with Python</font>"
      ]
    },
    {
      "cell_type": "code",
      "metadata": {
        "id": "S2qAYcuGdGW9",
        "colab": {
          "base_uri": "https://localhost:8080/"
        },
        "outputId": "02a8cd40-cf82-4217-94f6-3c521a49ed06"
      },
      "source": [
        "10 * 50"
      ],
      "execution_count": null,
      "outputs": [
        {
          "output_type": "execute_result",
          "data": {
            "text/plain": [
              "500"
            ]
          },
          "metadata": {
            "tags": []
          },
          "execution_count": 187
        }
      ]
    },
    {
      "cell_type": "code",
      "metadata": {
        "id": "7XPzTgE4dGXA",
        "colab": {
          "base_uri": "https://localhost:8080/"
        },
        "outputId": "399e15f8-c671-4eaa-f1d8-31da7131ede9"
      },
      "source": [
        "10 * 5 + 3 - 1"
      ],
      "execution_count": null,
      "outputs": [
        {
          "output_type": "execute_result",
          "data": {
            "text/plain": [
              "52"
            ]
          },
          "metadata": {
            "tags": []
          },
          "execution_count": 188
        }
      ]
    },
    {
      "cell_type": "code",
      "metadata": {
        "id": "GysL23iBdGXE",
        "colab": {
          "base_uri": "https://localhost:8080/"
        },
        "outputId": "e30d81cb-275a-45a8-e787-55ec15a8ac61"
      },
      "source": [
        "(10 * 5) + 3 - 1"
      ],
      "execution_count": null,
      "outputs": [
        {
          "output_type": "execute_result",
          "data": {
            "text/plain": [
              "52"
            ]
          },
          "metadata": {
            "tags": []
          },
          "execution_count": 189
        }
      ]
    },
    {
      "cell_type": "code",
      "metadata": {
        "id": "rMh8xDE-dGXG",
        "colab": {
          "base_uri": "https://localhost:8080/"
        },
        "outputId": "6177c69b-84e0-4186-cc1e-b44cf3b46dfd"
      },
      "source": [
        "10 / 3"
      ],
      "execution_count": null,
      "outputs": [
        {
          "output_type": "execute_result",
          "data": {
            "text/plain": [
              "3.3333333333333335"
            ]
          },
          "metadata": {
            "tags": []
          },
          "execution_count": 190
        }
      ]
    },
    {
      "cell_type": "code",
      "metadata": {
        "id": "9P3mTYpRdGXI",
        "colab": {
          "base_uri": "https://localhost:8080/"
        },
        "outputId": "e023a713-132d-47f4-ff3c-c4dbd69a044e"
      },
      "source": [
        "10 // 3 # truncating division"
      ],
      "execution_count": null,
      "outputs": [
        {
          "output_type": "execute_result",
          "data": {
            "text/plain": [
              "3"
            ]
          },
          "metadata": {
            "tags": []
          },
          "execution_count": 191
        }
      ]
    },
    {
      "cell_type": "code",
      "metadata": {
        "id": "Zt8REKsgdGXK",
        "colab": {
          "base_uri": "https://localhost:8080/"
        },
        "outputId": "a02e34c0-6d7a-4b0a-924d-5a462d16207e"
      },
      "source": [
        "10 % 3 # remainder"
      ],
      "execution_count": null,
      "outputs": [
        {
          "output_type": "execute_result",
          "data": {
            "text/plain": [
              "1"
            ]
          },
          "metadata": {
            "tags": []
          },
          "execution_count": 192
        }
      ]
    },
    {
      "cell_type": "code",
      "metadata": {
        "id": "uYEGt1nkdGXM",
        "colab": {
          "base_uri": "https://localhost:8080/"
        },
        "outputId": "45f826af-2103-4504-8a45-3a8ec06945c4"
      },
      "source": [
        "2 ** 10 # power"
      ],
      "execution_count": null,
      "outputs": [
        {
          "output_type": "execute_result",
          "data": {
            "text/plain": [
              "1024"
            ]
          },
          "metadata": {
            "tags": []
          },
          "execution_count": 193
        }
      ]
    },
    {
      "cell_type": "code",
      "metadata": {
        "id": "VWpRhWp0upyt",
        "colab": {
          "base_uri": "https://localhost:8080/"
        },
        "outputId": "07fa6ac0-42aa-4619-d674-7a916774f9c4"
      },
      "source": [
        "1.3+5"
      ],
      "execution_count": null,
      "outputs": [
        {
          "output_type": "execute_result",
          "data": {
            "text/plain": [
              "6.3"
            ]
          },
          "metadata": {
            "tags": []
          },
          "execution_count": 194
        }
      ]
    },
    {
      "cell_type": "markdown",
      "metadata": {
        "id": "GLSMrADRdGXP"
      },
      "source": [
        "# <font color=darkblue>Variables</font>"
      ]
    },
    {
      "cell_type": "markdown",
      "metadata": {
        "id": "GYOuHEGdr-XO"
      },
      "source": [
        "A variable is a place to save information in a program"
      ]
    },
    {
      "cell_type": "code",
      "metadata": {
        "id": "Ry6EYxOrdGXP"
      },
      "source": [
        "x = 5 # assignment. x contains 5. x is the name of the vraiable. 5 is the content of x"
      ],
      "execution_count": null,
      "outputs": []
    },
    {
      "cell_type": "code",
      "metadata": {
        "id": "l1s48c2UdGXR",
        "colab": {
          "base_uri": "https://localhost:8080/"
        },
        "outputId": "8e874f52-7a89-4e8a-c3ea-eaf93199693e"
      },
      "source": [
        "x + 6"
      ],
      "execution_count": null,
      "outputs": [
        {
          "output_type": "execute_result",
          "data": {
            "text/plain": [
              "11"
            ]
          },
          "metadata": {
            "tags": []
          },
          "execution_count": 197
        }
      ]
    },
    {
      "cell_type": "code",
      "metadata": {
        "id": "dw08D88WdGXT",
        "colab": {
          "base_uri": "https://localhost:8080/"
        },
        "outputId": "721ef59f-c5d5-4228-dc0c-7b198985dad0"
      },
      "source": [
        "y = 10\r\n",
        "print(y)"
      ],
      "execution_count": null,
      "outputs": [
        {
          "output_type": "stream",
          "text": [
            "10\n"
          ],
          "name": "stdout"
        }
      ]
    },
    {
      "cell_type": "code",
      "metadata": {
        "id": "mK3Kr7z5dGXV",
        "colab": {
          "base_uri": "https://localhost:8080/"
        },
        "outputId": "6377bb67-6135-4ac3-f438-ec1a2b8168b4"
      },
      "source": [
        "x + y "
      ],
      "execution_count": null,
      "outputs": [
        {
          "output_type": "execute_result",
          "data": {
            "text/plain": [
              "15"
            ]
          },
          "metadata": {
            "tags": []
          },
          "execution_count": 201
        }
      ]
    },
    {
      "cell_type": "code",
      "metadata": {
        "id": "Xk0NKMI2dGXY"
      },
      "source": [
        "a, b = 3, 5"
      ],
      "execution_count": null,
      "outputs": []
    },
    {
      "cell_type": "code",
      "metadata": {
        "id": "9HydmNjamepr",
        "colab": {
          "base_uri": "https://localhost:8080/"
        },
        "outputId": "a5cafef9-caf6-461f-fc14-e1283a37ea50"
      },
      "source": [
        "a"
      ],
      "execution_count": null,
      "outputs": [
        {
          "output_type": "execute_result",
          "data": {
            "text/plain": [
              "3"
            ]
          },
          "metadata": {
            "tags": []
          },
          "execution_count": 203
        }
      ]
    },
    {
      "cell_type": "code",
      "metadata": {
        "id": "Pac0vKTvmgMg",
        "colab": {
          "base_uri": "https://localhost:8080/"
        },
        "outputId": "76c0c45b-a84b-4825-d1ea-86aac98d95ff"
      },
      "source": [
        "b"
      ],
      "execution_count": null,
      "outputs": [
        {
          "output_type": "execute_result",
          "data": {
            "text/plain": [
              "5"
            ]
          },
          "metadata": {
            "tags": []
          },
          "execution_count": 204
        }
      ]
    },
    {
      "cell_type": "code",
      "metadata": {
        "id": "R1XwV_r8dGXZ"
      },
      "source": [
        "a, b = b, a+1"
      ],
      "execution_count": null,
      "outputs": []
    },
    {
      "cell_type": "code",
      "metadata": {
        "id": "v4tDfqGemwaO",
        "colab": {
          "base_uri": "https://localhost:8080/"
        },
        "outputId": "cc107037-028f-4ba5-d4ff-25a149c675f2"
      },
      "source": [
        "a"
      ],
      "execution_count": null,
      "outputs": [
        {
          "output_type": "execute_result",
          "data": {
            "text/plain": [
              "5"
            ]
          },
          "metadata": {
            "tags": []
          },
          "execution_count": 181
        }
      ]
    },
    {
      "cell_type": "code",
      "metadata": {
        "id": "NO9ICul9myCm",
        "colab": {
          "base_uri": "https://localhost:8080/"
        },
        "outputId": "260bd5e8-154d-4dcb-b708-78753e62e69f"
      },
      "source": [
        "b"
      ],
      "execution_count": null,
      "outputs": [
        {
          "output_type": "execute_result",
          "data": {
            "text/plain": [
              "4"
            ]
          },
          "metadata": {
            "tags": []
          },
          "execution_count": 182
        }
      ]
    },
    {
      "cell_type": "markdown",
      "metadata": {
        "id": "-URHnKkcdGXc"
      },
      "source": [
        "# <font color=darkblue>Print Function</font>"
      ]
    },
    {
      "cell_type": "code",
      "metadata": {
        "id": "luVFT-8OdGXc",
        "colab": {
          "base_uri": "https://localhost:8080/"
        },
        "outputId": "eb4f7230-6080-4828-d3dc-4bb0a5e6e22c"
      },
      "source": [
        "print(\"Hello World\")"
      ],
      "execution_count": null,
      "outputs": [
        {
          "output_type": "stream",
          "text": [
            "Hello World\n"
          ],
          "name": "stdout"
        }
      ]
    },
    {
      "cell_type": "markdown",
      "metadata": {
        "id": "p02zP6Y2dGXf"
      },
      "source": [
        "- `print` is a function<br>with one parameter\n",
        "- “Hello World” is the argument and it is a string<br>\n",
        "- We use parentheses when calling a function on specific arguments  "
      ]
    },
    {
      "cell_type": "code",
      "metadata": {
        "id": "Mthc1HGidGXg",
        "colab": {
          "base_uri": "https://localhost:8080/"
        },
        "outputId": "5f1b7e90-6e9d-44c1-bd4a-758099b80ab0"
      },
      "source": [
        "x = 3\n",
        "print(x) # prints the value of the variable x"
      ],
      "execution_count": null,
      "outputs": [
        {
          "output_type": "stream",
          "text": [
            "3\n"
          ],
          "name": "stdout"
        }
      ]
    },
    {
      "cell_type": "markdown",
      "metadata": {
        "id": "997IFHxbdGXi"
      },
      "source": [
        "# <font color=darkblue>Typing</font>\n",
        "- In Python, everything is an object\n",
        "- Python can deduce the type of things. This is called dynamic typing\n",
        "- 3 is an int\n",
        "- 3.5 is a float (because there is a .)\n",
        "- A string is between \" \"\n",
        "- A boolean is evaluated to True or False\n",
        "- The function `type(...)` can be used to determine the type of an expression"
      ]
    },
    {
      "cell_type": "code",
      "metadata": {
        "id": "Pi22EZu6dGXi",
        "colab": {
          "base_uri": "https://localhost:8080/"
        },
        "outputId": "70e118a0-4fc6-426f-b678-314e9aee9ec8"
      },
      "source": [
        "type(3) # int"
      ],
      "execution_count": null,
      "outputs": [
        {
          "output_type": "execute_result",
          "data": {
            "text/plain": [
              "int"
            ]
          },
          "metadata": {
            "tags": []
          },
          "execution_count": 109
        }
      ]
    },
    {
      "cell_type": "code",
      "metadata": {
        "id": "-AHrJlDzdGXk",
        "colab": {
          "base_uri": "https://localhost:8080/"
        },
        "outputId": "b71f2d76-e229-474c-dddd-5dfb56da63aa"
      },
      "source": [
        "type(\"Hello\") # str"
      ],
      "execution_count": null,
      "outputs": [
        {
          "output_type": "execute_result",
          "data": {
            "text/plain": [
              "str"
            ]
          },
          "metadata": {
            "tags": []
          },
          "execution_count": 110
        }
      ]
    },
    {
      "cell_type": "code",
      "metadata": {
        "id": "d5jbYr4IdGXl",
        "colab": {
          "base_uri": "https://localhost:8080/"
        },
        "outputId": "56669cd5-239e-439f-869d-db486729642a"
      },
      "source": [
        "type(3.4) # float"
      ],
      "execution_count": null,
      "outputs": [
        {
          "output_type": "execute_result",
          "data": {
            "text/plain": [
              "float"
            ]
          },
          "metadata": {
            "tags": []
          },
          "execution_count": 111
        }
      ]
    },
    {
      "cell_type": "code",
      "metadata": {
        "id": "CZCK6zzztlce",
        "colab": {
          "base_uri": "https://localhost:8080/"
        },
        "outputId": "dae11344-11aa-4d66-ddab-ddbb392950a7"
      },
      "source": [
        "type(True)"
      ],
      "execution_count": null,
      "outputs": [
        {
          "output_type": "execute_result",
          "data": {
            "text/plain": [
              "bool"
            ]
          },
          "metadata": {
            "tags": []
          },
          "execution_count": 112
        }
      ]
    },
    {
      "cell_type": "markdown",
      "metadata": {
        "id": "mwIqo79FdGXn"
      },
      "source": [
        "# <font color=darkblue>Boolean</font>"
      ]
    },
    {
      "cell_type": "code",
      "metadata": {
        "id": "PnjURCBAdGXn"
      },
      "source": [
        "b1 = True\n",
        "b2 = False"
      ],
      "execution_count": null,
      "outputs": []
    },
    {
      "cell_type": "code",
      "metadata": {
        "id": "O-Nah5sC2iCJ",
        "colab": {
          "base_uri": "https://localhost:8080/"
        },
        "outputId": "c186f276-5f71-440a-d957-c1335d9acc14"
      },
      "source": [
        "b1"
      ],
      "execution_count": null,
      "outputs": [
        {
          "output_type": "execute_result",
          "data": {
            "text/plain": [
              "True"
            ]
          },
          "metadata": {
            "tags": []
          },
          "execution_count": 211
        }
      ]
    },
    {
      "cell_type": "code",
      "metadata": {
        "id": "jHyaKU35dGXq",
        "colab": {
          "base_uri": "https://localhost:8080/"
        },
        "outputId": "87aee1ba-4aea-4d55-dd71-50940cab37e4"
      },
      "source": [
        "# boolean operators: not, or and and\n",
        "\n",
        "not b1"
      ],
      "execution_count": null,
      "outputs": [
        {
          "output_type": "execute_result",
          "data": {
            "text/plain": [
              "False"
            ]
          },
          "metadata": {
            "tags": []
          },
          "execution_count": 212
        }
      ]
    },
    {
      "cell_type": "code",
      "metadata": {
        "id": "rUNiOCRvdGXs",
        "colab": {
          "base_uri": "https://localhost:8080/"
        },
        "outputId": "ca092f19-cbb8-4d4d-c3e0-50f297f41966"
      },
      "source": [
        "b1 or b2"
      ],
      "execution_count": null,
      "outputs": [
        {
          "output_type": "execute_result",
          "data": {
            "text/plain": [
              "True"
            ]
          },
          "metadata": {
            "tags": []
          },
          "execution_count": 116
        }
      ]
    },
    {
      "cell_type": "code",
      "metadata": {
        "id": "2J5W0RBPdGXu",
        "colab": {
          "base_uri": "https://localhost:8080/"
        },
        "outputId": "3a6a15ca-a4bf-4b51-f95d-cb8603a8deb3"
      },
      "source": [
        "b1 and b2"
      ],
      "execution_count": null,
      "outputs": [
        {
          "output_type": "execute_result",
          "data": {
            "text/plain": [
              "False"
            ]
          },
          "metadata": {
            "tags": []
          },
          "execution_count": 213
        }
      ]
    },
    {
      "cell_type": "code",
      "metadata": {
        "id": "v52Z6ok_dGXw"
      },
      "source": [
        "# boolean expressions\n",
        "a, b = 3, 5"
      ],
      "execution_count": null,
      "outputs": []
    },
    {
      "cell_type": "code",
      "metadata": {
        "id": "GMo7rWE7dGXx",
        "colab": {
          "base_uri": "https://localhost:8080/"
        },
        "outputId": "a3f7209f-745a-451e-dca9-4b3d557ee138"
      },
      "source": [
        "a == b"
      ],
      "execution_count": null,
      "outputs": [
        {
          "output_type": "execute_result",
          "data": {
            "text/plain": [
              "False"
            ]
          },
          "metadata": {
            "tags": []
          },
          "execution_count": 215
        }
      ]
    },
    {
      "cell_type": "code",
      "metadata": {
        "id": "QSGCEfyEdGXz",
        "colab": {
          "base_uri": "https://localhost:8080/"
        },
        "outputId": "08940cbe-9cb1-4000-e67a-988bc3e0eeca"
      },
      "source": [
        "a != b"
      ],
      "execution_count": null,
      "outputs": [
        {
          "output_type": "execute_result",
          "data": {
            "text/plain": [
              "True"
            ]
          },
          "metadata": {
            "tags": []
          },
          "execution_count": 216
        }
      ]
    },
    {
      "cell_type": "code",
      "metadata": {
        "id": "6hbzMsQgdGX1",
        "colab": {
          "base_uri": "https://localhost:8080/"
        },
        "outputId": "28db4c17-df51-480b-d2b2-3070f33f36b1"
      },
      "source": [
        "a < b"
      ],
      "execution_count": null,
      "outputs": [
        {
          "output_type": "execute_result",
          "data": {
            "text/plain": [
              "True"
            ]
          },
          "metadata": {
            "tags": []
          },
          "execution_count": 217
        }
      ]
    },
    {
      "cell_type": "code",
      "metadata": {
        "id": "oJHz2M3gdGX5",
        "colab": {
          "base_uri": "https://localhost:8080/"
        },
        "outputId": "b0b400ef-8962-42a9-d6b0-867a31130833"
      },
      "source": [
        "a <= b"
      ],
      "execution_count": null,
      "outputs": [
        {
          "output_type": "execute_result",
          "data": {
            "text/plain": [
              "True"
            ]
          },
          "metadata": {
            "tags": []
          },
          "execution_count": 218
        }
      ]
    },
    {
      "cell_type": "markdown",
      "metadata": {
        "id": "-pYr0hNrdGX7"
      },
      "source": [
        "# <font color=darkblue>Float or Real Numbers</font>\n",
        "- A `float` is a floating point decimal number (a real number)"
      ]
    },
    {
      "cell_type": "code",
      "metadata": {
        "id": "7tZF07PldGX7",
        "colab": {
          "base_uri": "https://localhost:8080/"
        },
        "outputId": "65ae6ad6-68c8-454c-b482-d7a91467763d"
      },
      "source": [
        "type(3.14)"
      ],
      "execution_count": null,
      "outputs": [
        {
          "output_type": "execute_result",
          "data": {
            "text/plain": [
              "float"
            ]
          },
          "metadata": {
            "tags": []
          },
          "execution_count": 219
        }
      ]
    },
    {
      "cell_type": "code",
      "metadata": {
        "id": "CFYjAdh4dGX9",
        "colab": {
          "base_uri": "https://localhost:8080/"
        },
        "outputId": "a319bc0d-b0ec-48f1-ec26-ca367bd2a2d9"
      },
      "source": [
        "# float times int results in a float\n",
        "3.14 * 2"
      ],
      "execution_count": null,
      "outputs": [
        {
          "output_type": "execute_result",
          "data": {
            "text/plain": [
              "6.28"
            ]
          },
          "metadata": {
            "tags": []
          },
          "execution_count": 220
        }
      ]
    },
    {
      "cell_type": "markdown",
      "metadata": {
        "id": "JrSUB5ymdGX-"
      },
      "source": [
        "#### Look at the following examples"
      ]
    },
    {
      "cell_type": "code",
      "metadata": {
        "id": "sFUJeumOdGX_",
        "colab": {
          "base_uri": "https://localhost:8080/"
        },
        "outputId": "22f6dbbb-306a-4336-9713-928df0d8ad0f"
      },
      "source": [
        "type(3)"
      ],
      "execution_count": null,
      "outputs": [
        {
          "output_type": "execute_result",
          "data": {
            "text/plain": [
              "int"
            ]
          },
          "metadata": {
            "tags": []
          },
          "execution_count": 221
        }
      ]
    },
    {
      "cell_type": "code",
      "metadata": {
        "id": "yosIfBfvdGYA",
        "colab": {
          "base_uri": "https://localhost:8080/"
        },
        "outputId": "024fbc21-a9bc-44b3-8417-2440f6c2d103"
      },
      "source": [
        "# specifying a decimal point makes the number a float\n",
        "type(3.)"
      ],
      "execution_count": null,
      "outputs": [
        {
          "output_type": "execute_result",
          "data": {
            "text/plain": [
              "float"
            ]
          },
          "metadata": {
            "tags": []
          },
          "execution_count": 222
        }
      ]
    },
    {
      "cell_type": "code",
      "metadata": {
        "id": "fYTHW5mWdGYC",
        "colab": {
          "base_uri": "https://localhost:8080/"
        },
        "outputId": "a7d1fd96-dd63-4f66-f68b-01191afe1fc4"
      },
      "source": [
        "3.14 / 2.1"
      ],
      "execution_count": null,
      "outputs": [
        {
          "output_type": "execute_result",
          "data": {
            "text/plain": [
              "1.4952380952380953"
            ]
          },
          "metadata": {
            "tags": []
          },
          "execution_count": 127
        }
      ]
    },
    {
      "cell_type": "code",
      "metadata": {
        "id": "5mlcXcojdGYE",
        "colab": {
          "base_uri": "https://localhost:8080/"
        },
        "outputId": "ee5158db-1773-4b05-e2eb-e1380cc5e118"
      },
      "source": [
        "3.14 // 2.1  # modulus division works the same the division on ints but the result is a float"
      ],
      "execution_count": null,
      "outputs": [
        {
          "output_type": "execute_result",
          "data": {
            "text/plain": [
              "1.0"
            ]
          },
          "metadata": {
            "tags": []
          },
          "execution_count": 128
        }
      ]
    },
    {
      "cell_type": "markdown",
      "metadata": {
        "id": "mVZ4jJF-dGYF"
      },
      "source": [
        "# <font color=darkblue>Strings</font>\n",
        " - Strings are immutable sequences of characters. Identified by single or double quotes\n",
        "\n",
        " - What does immutable mean?\n",
        " \n",
        " - There are many built-in functions on strings\n",
        "\n",
        " - https://docs.python.org/3.3/library/stdtypes.html?highlight=split "
      ]
    },
    {
      "cell_type": "code",
      "metadata": {
        "id": "Ny3saMqudGYG"
      },
      "source": [
        "s = 'This is a string'"
      ],
      "execution_count": null,
      "outputs": []
    },
    {
      "cell_type": "code",
      "metadata": {
        "id": "Zz5Vh0JvdGYW",
        "colab": {
          "base_uri": "https://localhost:8080/"
        },
        "outputId": "2367eeeb-539b-4f2b-8758-f4fac2284b9d"
      },
      "source": [
        "s1 = 'A quote \" ' # use of quote in a string. You can also use 3 single quotes\r\n",
        "print(s1)"
      ],
      "execution_count": null,
      "outputs": [
        {
          "output_type": "stream",
          "text": [
            "A quote \" \n"
          ],
          "name": "stdout"
        }
      ]
    },
    {
      "cell_type": "code",
      "metadata": {
        "id": "gfgYgP7pdGYM",
        "colab": {
          "base_uri": "https://localhost:8080/",
          "height": 36
        },
        "outputId": "620a5ad7-ccb2-4886-ed99-a2f24a63e475"
      },
      "source": [
        "s[0] # string begins at index 0"
      ],
      "execution_count": null,
      "outputs": [
        {
          "output_type": "execute_result",
          "data": {
            "application/vnd.google.colaboratory.intrinsic+json": {
              "type": "string"
            },
            "text/plain": [
              "'T'"
            ]
          },
          "metadata": {
            "tags": []
          },
          "execution_count": 225
        }
      ]
    },
    {
      "cell_type": "code",
      "metadata": {
        "id": "T19VRB83dGYQ",
        "colab": {
          "base_uri": "https://localhost:8080/",
          "height": 36
        },
        "outputId": "69832387-cdb4-4bb8-a363-70d795f35bad"
      },
      "source": [
        "# This is a string\r\n",
        "s[1:3] # substring from position 1 to 3-1=2"
      ],
      "execution_count": null,
      "outputs": [
        {
          "output_type": "execute_result",
          "data": {
            "application/vnd.google.colaboratory.intrinsic+json": {
              "type": "string"
            },
            "text/plain": [
              "'hi'"
            ]
          },
          "metadata": {
            "tags": []
          },
          "execution_count": 226
        }
      ]
    },
    {
      "cell_type": "code",
      "metadata": {
        "id": "PmyzLExidGYR",
        "colab": {
          "base_uri": "https://localhost:8080/",
          "height": 36
        },
        "outputId": "299225a3-b3f2-47cb-c9dd-464dd696626d"
      },
      "source": [
        "s[2:] #substring from position 2"
      ],
      "execution_count": null,
      "outputs": [
        {
          "output_type": "execute_result",
          "data": {
            "application/vnd.google.colaboratory.intrinsic+json": {
              "type": "string"
            },
            "text/plain": [
              "'is is a string'"
            ]
          },
          "metadata": {
            "tags": []
          },
          "execution_count": 133
        }
      ]
    },
    {
      "cell_type": "code",
      "metadata": {
        "id": "ThG7PP3YdGYU",
        "colab": {
          "base_uri": "https://localhost:8080/",
          "height": 36
        },
        "outputId": "9fb1cb3b-5a25-4240-bf63-adfd9ebe50ce"
      },
      "source": [
        "s[-1] # index from the right side"
      ],
      "execution_count": null,
      "outputs": [
        {
          "output_type": "execute_result",
          "data": {
            "application/vnd.google.colaboratory.intrinsic+json": {
              "type": "string"
            },
            "text/plain": [
              "'g'"
            ]
          },
          "metadata": {
            "tags": []
          },
          "execution_count": 227
        }
      ]
    },
    {
      "cell_type": "code",
      "metadata": {
        "colab": {
          "base_uri": "https://localhost:8080/",
          "height": 36
        },
        "id": "ThNis38MwX9g",
        "outputId": "25c1232e-1be2-4d5e-a8ed-b172b6e71aab"
      },
      "source": [
        "s[-2]"
      ],
      "execution_count": null,
      "outputs": [
        {
          "output_type": "execute_result",
          "data": {
            "application/vnd.google.colaboratory.intrinsic+json": {
              "type": "string"
            },
            "text/plain": [
              "'n'"
            ]
          },
          "metadata": {
            "tags": []
          },
          "execution_count": 228
        }
      ]
    },
    {
      "cell_type": "code",
      "metadata": {
        "id": "niEG-8fQdGYX",
        "colab": {
          "base_uri": "https://localhost:8080/"
        },
        "outputId": "24502c1c-33b5-46f6-8c55-c695eb541eab"
      },
      "source": [
        "text = \"This is a string %s\" # to create parameterized strings\r\n",
        "print(text % 5) # returns This is a string  5 "
      ],
      "execution_count": null,
      "outputs": [
        {
          "output_type": "stream",
          "text": [
            "This is a string 5\n"
          ],
          "name": "stdout"
        }
      ]
    },
    {
      "cell_type": "code",
      "metadata": {
        "id": "f478FE--dGYK",
        "colab": {
          "base_uri": "https://localhost:8080/",
          "height": 36
        },
        "outputId": "032673b0-e98c-46d1-df0f-0dfc68de4988"
      },
      "source": [
        "s  + \" Another string\" # concatenation of strings"
      ],
      "execution_count": null,
      "outputs": [
        {
          "output_type": "execute_result",
          "data": {
            "application/vnd.google.colaboratory.intrinsic+json": {
              "type": "string"
            },
            "text/plain": [
              "'This is a string Another string'"
            ]
          },
          "metadata": {
            "tags": []
          },
          "execution_count": 229
        }
      ]
    },
    {
      "cell_type": "code",
      "metadata": {
        "id": "W7cAQsDYdGYH",
        "colab": {
          "base_uri": "https://localhost:8080/",
          "height": 36
        },
        "outputId": "ad2c2627-8b74-4472-dd75-270de3c3bfb0"
      },
      "source": [
        "s * 3 # repeats the string 3 times"
      ],
      "execution_count": null,
      "outputs": [
        {
          "output_type": "execute_result",
          "data": {
            "application/vnd.google.colaboratory.intrinsic+json": {
              "type": "string"
            },
            "text/plain": [
              "'This is a stringThis is a stringThis is a string'"
            ]
          },
          "metadata": {
            "tags": []
          },
          "execution_count": 230
        }
      ]
    },
    {
      "cell_type": "markdown",
      "metadata": {
        "id": "dU13rd30dGYi"
      },
      "source": [
        "<h2 style=\"background-color: yellow\">Exercise</h2>\n",
        "\n",
        "How to get ‘ll’ from a string containing ‘Hello’?"
      ]
    },
    {
      "cell_type": "code",
      "metadata": {
        "colab": {
          "base_uri": "https://localhost:8080/",
          "height": 36
        },
        "id": "Nv7rg_DWxHlh",
        "outputId": "be0ffe36-aa18-4910-f774-122e96b26004"
      },
      "source": [
        "s1 = \"Hello\"\r\n",
        "s1[2:4]"
      ],
      "execution_count": null,
      "outputs": [
        {
          "output_type": "execute_result",
          "data": {
            "application/vnd.google.colaboratory.intrinsic+json": {
              "type": "string"
            },
            "text/plain": [
              "'ll'"
            ]
          },
          "metadata": {
            "tags": []
          },
          "execution_count": 232
        }
      ]
    },
    {
      "cell_type": "markdown",
      "metadata": {
        "id": "hcjeIGw5dGYj"
      },
      "source": [
        "# <font color=darkblue>String Functions</font>\n",
        "\n",
        "There are lots of functions on strings\n",
        "\n",
        "- `str.capitalize()` - Return a copy of the string with its first character capitalized and the rest lowercased<br>\n",
        "\n",
        "- `str.split([sep[, maxsplit]])` - Return a list of the words in the string, using sep as the delimiter string. If `maxsplit` is given, at most `maxsplit` splits are done (thus, the list will have at most `maxsplit+1` elements). If `maxsplit` is not specified or -1, then there is no limit on the number of splits (all possible splits are made)<br>\n",
        "\n",
        "- `str.upper()` - Return a copy of the string with all the cased characters converted to uppercase \n",
        "\n",
        "- What other functions are there?\n",
        "\n",
        "https://docs.python.org/3.8/library/stdtypes.html#string-methods"
      ]
    },
    {
      "cell_type": "code",
      "metadata": {
        "id": "wF-icXCHdGYj",
        "colab": {
          "base_uri": "https://localhost:8080/"
        },
        "outputId": "9cd8dd79-004d-4192-cc00-172190489328"
      },
      "source": [
        "new_string = \"how, are, you\"\r\n",
        "copy_ns = new_string.capitalize()\r\n",
        "print(copy_ns)\r\n"
      ],
      "execution_count": null,
      "outputs": [
        {
          "output_type": "stream",
          "text": [
            "How, are, you\n"
          ],
          "name": "stdout"
        }
      ]
    },
    {
      "cell_type": "code",
      "metadata": {
        "colab": {
          "base_uri": "https://localhost:8080/"
        },
        "id": "BA7wwQFEyPDH",
        "outputId": "0695c730-3c86-4827-93b5-98e90ce77774"
      },
      "source": [
        "new_string = \"how, are, you\"\r\n",
        "copy_ns_c = new_string.upper()\r\n",
        "print(copy_ns_c)"
      ],
      "execution_count": null,
      "outputs": [
        {
          "output_type": "stream",
          "text": [
            "HOW, ARE, YOU\n"
          ],
          "name": "stdout"
        }
      ]
    },
    {
      "cell_type": "code",
      "metadata": {
        "colab": {
          "base_uri": "https://localhost:8080/"
        },
        "id": "Eu147-asx3ey",
        "outputId": "167475c4-0822-4341-8823-8f22ca6d1173"
      },
      "source": [
        "new_string.split(\",\") # ['How', ' are', ' you']"
      ],
      "execution_count": null,
      "outputs": [
        {
          "output_type": "execute_result",
          "data": {
            "text/plain": [
              "['how', ' are', ' you']"
            ]
          },
          "metadata": {
            "tags": []
          },
          "execution_count": 240
        }
      ]
    },
    {
      "cell_type": "code",
      "metadata": {
        "id": "daBMUAiH964z",
        "colab": {
          "base_uri": "https://localhost:8080/"
        },
        "outputId": "f784ecee-ac6b-460a-e278-743c8d96d8e2"
      },
      "source": [
        "w = s.split(\" \")\n",
        "w"
      ],
      "execution_count": null,
      "outputs": [
        {
          "output_type": "execute_result",
          "data": {
            "text/plain": [
              "['This', 'is', 'a', 'string']"
            ]
          },
          "metadata": {
            "tags": []
          },
          "execution_count": 242
        }
      ]
    },
    {
      "cell_type": "code",
      "metadata": {
        "colab": {
          "base_uri": "https://localhost:8080/",
          "height": 36
        },
        "id": "TAkVaZ7dyrqa",
        "outputId": "e14a2e8a-84d2-41a4-cc89-83a89c33b9c1"
      },
      "source": [
        "w[0]"
      ],
      "execution_count": null,
      "outputs": [
        {
          "output_type": "execute_result",
          "data": {
            "application/vnd.google.colaboratory.intrinsic+json": {
              "type": "string"
            },
            "text/plain": [
              "'This'"
            ]
          },
          "metadata": {
            "tags": []
          },
          "execution_count": 243
        }
      ]
    },
    {
      "cell_type": "code",
      "metadata": {
        "id": "_TcVi6t493dO",
        "colab": {
          "base_uri": "https://localhost:8080/"
        },
        "outputId": "86513710-9232-4c72-de7e-1ad043da9f20"
      },
      "source": [
        "[w[i] for i in (0,3)]"
      ],
      "execution_count": null,
      "outputs": [
        {
          "output_type": "execute_result",
          "data": {
            "text/plain": [
              "['This', 'string']"
            ]
          },
          "metadata": {
            "tags": []
          },
          "execution_count": 140
        }
      ]
    },
    {
      "cell_type": "code",
      "metadata": {
        "id": "vygc6weydGYb",
        "colab": {
          "base_uri": "https://localhost:8080/"
        },
        "outputId": "41332fe9-1479-4d34-aa8b-b068846f049b"
      },
      "source": [
        "len(s1) # length of s1"
      ],
      "execution_count": null,
      "outputs": [
        {
          "output_type": "execute_result",
          "data": {
            "text/plain": [
              "10"
            ]
          },
          "metadata": {
            "tags": []
          },
          "execution_count": 141
        }
      ]
    },
    {
      "cell_type": "code",
      "metadata": {
        "id": "n0WahMJKdGYc"
      },
      "source": [
        "s = \"This is a sring\""
      ],
      "execution_count": null,
      "outputs": []
    },
    {
      "cell_type": "code",
      "metadata": {
        "id": "W1D3o728dGYe",
        "colab": {
          "base_uri": "https://localhost:8080/"
        },
        "outputId": "1fef7dda-5bc3-4e83-e448-f1fa350c980e"
      },
      "source": [
        "\"T\" in s # check if T is in the string"
      ],
      "execution_count": null,
      "outputs": [
        {
          "output_type": "execute_result",
          "data": {
            "text/plain": [
              "True"
            ]
          },
          "metadata": {
            "tags": []
          },
          "execution_count": 247
        }
      ]
    },
    {
      "cell_type": "code",
      "metadata": {
        "id": "o9O13XyRdGYg",
        "colab": {
          "base_uri": "https://localhost:8080/"
        },
        "outputId": "c071b4a6-6a1a-43e0-ca1c-e337bf784f73"
      },
      "source": [
        "print(\"s \" + s)\r\n",
        "r = s.replace(\"t\", \"o\") # replace method applied on object s\r\n",
        "print(\"r \" + r)\r\n",
        "print(\"s \" + s)"
      ],
      "execution_count": null,
      "outputs": [
        {
          "output_type": "stream",
          "text": [
            "s This is a string\n",
            "r This is a soring\n",
            "s This is a string\n"
          ],
          "name": "stdout"
        }
      ]
    },
    {
      "cell_type": "markdown",
      "metadata": {
        "id": "KK3-YjzvdGY-"
      },
      "source": [
        "# <font color=darkblue>List</font>\n",
        "\n",
        "* A list is a mutable collection of elements. They do not have to be of the same type\n",
        "* Identified by square brackets and using commas between elements\n",
        "* Can have duplicates\n",
        "* What does mutable mean?"
      ]
    },
    {
      "cell_type": "code",
      "metadata": {
        "id": "8Qr-QJ6ddGY-",
        "colab": {
          "base_uri": "https://localhost:8080/"
        },
        "outputId": "767dd913-d17a-4fb5-c8a1-dcd91868317c"
      },
      "source": [
        "fruit_list = [ \"apple\", \"orange\", \"lemon\"]\r\n",
        "print(fruit_list)\r\n",
        "type(fruit_list)"
      ],
      "execution_count": null,
      "outputs": [
        {
          "output_type": "stream",
          "text": [
            "['apple', 'orange', 'lemon']\n"
          ],
          "name": "stdout"
        },
        {
          "output_type": "execute_result",
          "data": {
            "text/plain": [
              "list"
            ]
          },
          "metadata": {
            "tags": []
          },
          "execution_count": 260
        }
      ]
    },
    {
      "cell_type": "code",
      "metadata": {
        "id": "0qnWophRdGZA"
      },
      "source": [
        "fruit_list.append(\"grape\")"
      ],
      "execution_count": null,
      "outputs": []
    },
    {
      "cell_type": "code",
      "metadata": {
        "id": "5KAPUAkIdGZB",
        "colab": {
          "base_uri": "https://localhost:8080/"
        },
        "outputId": "a135fc6d-c00a-4480-f9fa-81a134d9fe11"
      },
      "source": [
        "print(fruit_list)"
      ],
      "execution_count": null,
      "outputs": [
        {
          "output_type": "stream",
          "text": [
            "['apple', 'orange', 'lemon', 'grape']\n"
          ],
          "name": "stdout"
        }
      ]
    },
    {
      "cell_type": "code",
      "metadata": {
        "id": "q8KR8I0HdGZC",
        "colab": {
          "base_uri": "https://localhost:8080/",
          "height": 36
        },
        "outputId": "f5ff1cde-ea54-42bf-9700-38e88f7a82e7"
      },
      "source": [
        "fruit_list[2] # starts at position 0"
      ],
      "execution_count": null,
      "outputs": [
        {
          "output_type": "execute_result",
          "data": {
            "application/vnd.google.colaboratory.intrinsic+json": {
              "type": "string"
            },
            "text/plain": [
              "'lemon'"
            ]
          },
          "metadata": {
            "tags": []
          },
          "execution_count": 263
        }
      ]
    },
    {
      "cell_type": "code",
      "metadata": {
        "id": "w-k8ojUEdGZD",
        "colab": {
          "base_uri": "https://localhost:8080/",
          "height": 36
        },
        "outputId": "dac7daef-b387-49bd-d8ca-c94d4ed12dea"
      },
      "source": [
        "fruit_list[-2] # starts from the end "
      ],
      "execution_count": null,
      "outputs": [
        {
          "output_type": "execute_result",
          "data": {
            "application/vnd.google.colaboratory.intrinsic+json": {
              "type": "string"
            },
            "text/plain": [
              "'lemon'"
            ]
          },
          "metadata": {
            "tags": []
          },
          "execution_count": 264
        }
      ]
    },
    {
      "cell_type": "code",
      "metadata": {
        "id": "BAu7Z5RGdGZG"
      },
      "source": [
        "# fruit_list[10] # index out of range"
      ],
      "execution_count": null,
      "outputs": []
    },
    {
      "cell_type": "code",
      "metadata": {
        "id": "du-bn5tadGZH",
        "colab": {
          "base_uri": "https://localhost:8080/"
        },
        "outputId": "fd99621a-cce4-40ce-b47e-3e7290e5f51d"
      },
      "source": [
        "fruit_list[1:2] # list[start:end] provides the items from start through end-1"
      ],
      "execution_count": null,
      "outputs": [
        {
          "output_type": "execute_result",
          "data": {
            "text/plain": [
              "['orange']"
            ]
          },
          "metadata": {
            "tags": []
          },
          "execution_count": 268
        }
      ]
    },
    {
      "cell_type": "code",
      "metadata": {
        "id": "tMDvfAdcdGZJ",
        "colab": {
          "base_uri": "https://localhost:8080/"
        },
        "outputId": "76bd9419-4351-4470-cbdc-27fdc61ded12"
      },
      "source": [
        "fruit_list[2:] # elements starting at position 2 to the end"
      ],
      "execution_count": null,
      "outputs": [
        {
          "output_type": "execute_result",
          "data": {
            "text/plain": [
              "['lemon', 'grape']"
            ]
          },
          "metadata": {
            "tags": []
          },
          "execution_count": 269
        }
      ]
    },
    {
      "cell_type": "code",
      "metadata": {
        "id": "iXmzSB6TdGZL"
      },
      "source": [
        "del fruit_list[1] # delete element at position 1"
      ],
      "execution_count": null,
      "outputs": []
    },
    {
      "cell_type": "code",
      "metadata": {
        "id": "ub771Np5LI9k",
        "colab": {
          "base_uri": "https://localhost:8080/"
        },
        "outputId": "2ae722f8-1973-4970-a58b-55a59e9476bb"
      },
      "source": [
        "fruit_list"
      ],
      "execution_count": null,
      "outputs": [
        {
          "output_type": "execute_result",
          "data": {
            "text/plain": [
              "['apple', 'lemon', 'grape']"
            ]
          },
          "metadata": {
            "tags": []
          },
          "execution_count": 271
        }
      ]
    },
    {
      "cell_type": "code",
      "metadata": {
        "id": "3ZToBrUYdGZN"
      },
      "source": [
        "list1 = [1,2,3]"
      ],
      "execution_count": null,
      "outputs": []
    },
    {
      "cell_type": "code",
      "metadata": {
        "id": "-bTttiLFdGZO"
      },
      "source": [
        "list2 = [4,5]"
      ],
      "execution_count": null,
      "outputs": []
    },
    {
      "cell_type": "code",
      "metadata": {
        "id": "ddnebeAWdGZP"
      },
      "source": [
        "list3 = list1 + list2 # concatenation of lists"
      ],
      "execution_count": null,
      "outputs": []
    },
    {
      "cell_type": "code",
      "metadata": {
        "id": "VZlFXvSDLYdg",
        "colab": {
          "base_uri": "https://localhost:8080/"
        },
        "outputId": "5a9ced00-2121-41de-b818-e1964dd7982a"
      },
      "source": [
        "list3"
      ],
      "execution_count": null,
      "outputs": [
        {
          "output_type": "execute_result",
          "data": {
            "text/plain": [
              "[1, 2, 3, 4, 5]"
            ]
          },
          "metadata": {
            "tags": []
          },
          "execution_count": 276
        }
      ]
    },
    {
      "cell_type": "code",
      "metadata": {
        "id": "XU8PMcRKdGZQ",
        "colab": {
          "base_uri": "https://localhost:8080/"
        },
        "outputId": "f699f2b5-ac99-4ab3-edb1-fff483125fe5"
      },
      "source": [
        "list1 * 2"
      ],
      "execution_count": null,
      "outputs": [
        {
          "output_type": "execute_result",
          "data": {
            "text/plain": [
              "[1, 2, 3, 1, 2, 3]"
            ]
          },
          "metadata": {
            "tags": []
          },
          "execution_count": 277
        }
      ]
    },
    {
      "cell_type": "code",
      "metadata": {
        "id": "8BEZeEjQdGZR"
      },
      "source": [
        "my_list = [\"apple\", 1] # list of elements of different types"
      ],
      "execution_count": null,
      "outputs": []
    },
    {
      "cell_type": "code",
      "metadata": {
        "id": "u0XeP_QbLsV7",
        "colab": {
          "base_uri": "https://localhost:8080/"
        },
        "outputId": "27e47f96-63ae-41ef-8cab-d936abd303d1"
      },
      "source": [
        "my_list"
      ],
      "execution_count": null,
      "outputs": [
        {
          "output_type": "execute_result",
          "data": {
            "text/plain": [
              "['apple', 1]"
            ]
          },
          "metadata": {
            "tags": []
          },
          "execution_count": 279
        }
      ]
    },
    {
      "cell_type": "code",
      "metadata": {
        "id": "MYG9r8JNdGZU",
        "colab": {
          "base_uri": "https://localhost:8080/"
        },
        "outputId": "f0bcdd06-7e88-4454-9143-a022b729fd98"
      },
      "source": [
        "number_list1 = list(range(1,101)) # list is a constructor. It builds a list with elements from 1 to 100\n",
        "print(number_list1)"
      ],
      "execution_count": null,
      "outputs": [
        {
          "output_type": "stream",
          "text": [
            "[1, 2, 3, 4, 5, 6, 7, 8, 9, 10, 11, 12, 13, 14, 15, 16, 17, 18, 19, 20, 21, 22, 23, 24, 25, 26, 27, 28, 29, 30, 31, 32, 33, 34, 35, 36, 37, 38, 39, 40, 41, 42, 43, 44, 45, 46, 47, 48, 49, 50, 51, 52, 53, 54, 55, 56, 57, 58, 59, 60, 61, 62, 63, 64, 65, 66, 67, 68, 69, 70, 71, 72, 73, 74, 75, 76, 77, 78, 79, 80, 81, 82, 83, 84, 85, 86, 87, 88, 89, 90, 91, 92, 93, 94, 95, 96, 97, 98, 99, 100]\n"
          ],
          "name": "stdout"
        }
      ]
    },
    {
      "cell_type": "code",
      "metadata": {
        "id": "v7H7SFNQdGZW",
        "colab": {
          "base_uri": "https://localhost:8080/"
        },
        "outputId": "1c2a8754-e2c1-429b-f3a2-d37d023fd44f"
      },
      "source": [
        "number_list2 = list(range(3)) # range(3) means from 0 to 2\n",
        "print(number_list2)"
      ],
      "execution_count": null,
      "outputs": [
        {
          "output_type": "stream",
          "text": [
            "[0, 1, 2]\n"
          ],
          "name": "stdout"
        }
      ]
    },
    {
      "cell_type": "markdown",
      "metadata": {
        "id": "x6gIXMtndGZX"
      },
      "source": [
        "# <font color=darkblue>List Functions</font>\n",
        "\n",
        "There are a lot of pre-defined functions on lists\n",
        "\n",
        "https://docs.python.org/3/tutorial/datastructures.html\n",
        "\n",
        "- `list.append(x)` - Add an item to the end of the list. Equivalent to a[len(a):] = [x]\n",
        "- `list.insert(i, x)` - Insert an item at a given position i. The first argument is the index of the element before which to insert, so `a.insert(0, x)` inserts at the front of the list, and `a.insert(len(a), x)` is equivalent to `a.append(x)`\n",
        "- `list.remove(x)` - Remove the first item from the list whose value is `x`. It is an error if there is no such item.\n",
        "- `list.count(x)` - Return the number of times `x` appears in the list.\n",
        "- `list.sort(key=None, reverse=False)` - Sort the items of the list in place\n",
        "- `list.reverse()` - Reverse the elements of the list in place.\n",
        "- `list.copy()` - Return a shallow copy of the list. Equivalent to `a[:]`."
      ]
    },
    {
      "cell_type": "markdown",
      "metadata": {
        "id": "CQhWyPpydGZY"
      },
      "source": [
        "***\n",
        "<h2 style=\"background-color: yellow; color: darkred;\">Exercise</h2>\n",
        "\n",
        "* Create a list of lists of ints\n",
        "* Ceate a list of strings\n",
        "* Construct a list composed of the elements from position 2 to 5 using slicing\n",
        "***\n",
        "\n"
      ]
    },
    {
      "cell_type": "code",
      "metadata": {
        "id": "3ee1NR23P6HZ"
      },
      "source": [
        "# List of lists of ints using range\n",
        "list_1 = list(range(0,6))\n",
        "list_2 = list(range(6,8))\n",
        "list_3 = [list_1, list_2]\n"
      ],
      "execution_count": null,
      "outputs": []
    },
    {
      "cell_type": "code",
      "metadata": {
        "id": "EXXIDqtKSKch",
        "colab": {
          "base_uri": "https://localhost:8080/"
        },
        "outputId": "e2f4146f-db23-4088-b72a-7b5fffe69925"
      },
      "source": [
        "list_3"
      ],
      "execution_count": null,
      "outputs": [
        {
          "output_type": "execute_result",
          "data": {
            "text/plain": [
              "[[0, 1, 2, 3, 4, 5], [6, 7]]"
            ]
          },
          "metadata": {
            "tags": []
          },
          "execution_count": 165
        }
      ]
    },
    {
      "cell_type": "code",
      "metadata": {
        "id": "vQ6_zynlSNh3",
        "colab": {
          "base_uri": "https://localhost:8080/"
        },
        "outputId": "f8adcaf6-8077-4f29-b04f-c2c1a31a11bf"
      },
      "source": [
        "animals = [\"fish\", \"cow\", \"tree\"]\n",
        "animals"
      ],
      "execution_count": null,
      "outputs": [
        {
          "output_type": "execute_result",
          "data": {
            "text/plain": [
              "['fish', 'cow', 'tree']"
            ]
          },
          "metadata": {
            "tags": []
          },
          "execution_count": 166
        }
      ]
    },
    {
      "cell_type": "code",
      "metadata": {
        "id": "vK9iD2q4TZIh",
        "colab": {
          "base_uri": "https://localhost:8080/"
        },
        "outputId": "56c2a342-4dae-4e14-fa55-ca64427ce14e"
      },
      "source": [
        "# elements 2 to 5 using slicing\r\n",
        "x = list_1[2:6]\r\n",
        "x"
      ],
      "execution_count": null,
      "outputs": [
        {
          "output_type": "execute_result",
          "data": {
            "text/plain": [
              "[2, 3, 4, 5]"
            ]
          },
          "metadata": {
            "tags": []
          },
          "execution_count": 167
        }
      ]
    },
    {
      "cell_type": "markdown",
      "metadata": {
        "id": "FojJ9wjkdGZY"
      },
      "source": [
        "# <font color=darkblue>Tuple</font>\n",
        "\n",
        "* A tuple is a immutable sequence of elements\n",
        "* Identified by parentheses, but also commas\n",
        "* What does immutable mean?"
      ]
    },
    {
      "cell_type": "code",
      "metadata": {
        "id": "rDDw_SgwdGZY"
      },
      "source": [
        "t = (5, \"John\") "
      ],
      "execution_count": null,
      "outputs": []
    },
    {
      "cell_type": "code",
      "metadata": {
        "id": "HAoNFaQddGZa",
        "colab": {
          "base_uri": "https://localhost:8080/",
          "height": 36
        },
        "outputId": "695d47ea-3e83-439f-d79b-f24293358648"
      },
      "source": [
        "t[1]"
      ],
      "execution_count": null,
      "outputs": [
        {
          "output_type": "execute_result",
          "data": {
            "application/vnd.google.colaboratory.intrinsic+json": {
              "type": "string"
            },
            "text/plain": [
              "'John'"
            ]
          },
          "metadata": {
            "tags": []
          },
          "execution_count": 283
        }
      ]
    },
    {
      "cell_type": "code",
      "metadata": {
        "id": "MwBCsCfSdGZb",
        "colab": {
          "base_uri": "https://localhost:8080/",
          "height": 211
        },
        "outputId": "94a7b1d3-2e80-4195-ddab-120a8cdc2068"
      },
      "source": [
        "t[1] = 'Jim' # Errors. A tuple is immutable"
      ],
      "execution_count": null,
      "outputs": [
        {
          "output_type": "error",
          "ename": "TypeError",
          "evalue": "ignored",
          "traceback": [
            "\u001b[0;31m---------------------------------------------------------------------------\u001b[0m",
            "\u001b[0;31mTypeError\u001b[0m                                 Traceback (most recent call last)",
            "\u001b[0;32m<ipython-input-284-63ba3a5246b3>\u001b[0m in \u001b[0;36m<module>\u001b[0;34m()\u001b[0m\n\u001b[0;32m----> 1\u001b[0;31m \u001b[0mt\u001b[0m\u001b[0;34m[\u001b[0m\u001b[0;36m1\u001b[0m\u001b[0;34m]\u001b[0m \u001b[0;34m=\u001b[0m \u001b[0;34m'Jim'\u001b[0m \u001b[0;31m# Errors. A tuple is immutable\u001b[0m\u001b[0;34m\u001b[0m\u001b[0;34m\u001b[0m\u001b[0m\n\u001b[0m",
            "\u001b[0;31mTypeError\u001b[0m: 'tuple' object does not support item assignment"
          ]
        }
      ]
    },
    {
      "cell_type": "markdown",
      "metadata": {
        "id": "RMzanBridGZd"
      },
      "source": [
        "***\n",
        "# <font color=darkblue>Dictionary</font>\n",
        "\n",
        "* A dictionary is a mutable sequence of elements  where each element can be accessed via a key and has a value\n",
        "* Identified by curly braces. But also , and :\n",
        "* What does mutable mean?"
      ]
    },
    {
      "cell_type": "code",
      "metadata": {
        "id": "wtMIdQpldGZd"
      },
      "source": [
        "sport = {\"John\" : \"Soccer\", \"Jim\" : \"Baseball\", \"Paul\" : \"Football\"}"
      ],
      "execution_count": null,
      "outputs": []
    },
    {
      "cell_type": "code",
      "metadata": {
        "colab": {
          "base_uri": "https://localhost:8080/"
        },
        "id": "2ezPMm844KLS",
        "outputId": "0b5694bd-eef3-43c8-b0e3-997265a5e17e"
      },
      "source": [
        "print(sport)"
      ],
      "execution_count": null,
      "outputs": [
        {
          "output_type": "stream",
          "text": [
            "{'John': 'Soccer', 'Jim': 'Baseball', 'Paul': 'Football'}\n"
          ],
          "name": "stdout"
        }
      ]
    },
    {
      "cell_type": "code",
      "metadata": {
        "id": "zwRhZ8oodGZf",
        "colab": {
          "base_uri": "https://localhost:8080/"
        },
        "outputId": "04e4b202-e646-4832-e2d9-05e0c83053dc"
      },
      "source": [
        "sport"
      ],
      "execution_count": null,
      "outputs": [
        {
          "output_type": "execute_result",
          "data": {
            "text/plain": [
              "{'Jim': 'Baseball', 'John': 'Soccer', 'Paul': 'Football'}"
            ]
          },
          "metadata": {
            "tags": []
          },
          "execution_count": 289
        }
      ]
    },
    {
      "cell_type": "code",
      "metadata": {
        "id": "ok4qO5FqdGZh",
        "colab": {
          "base_uri": "https://localhost:8080/",
          "height": 36
        },
        "outputId": "c32f1a31-e46a-47d9-e4bc-7281986eaf56"
      },
      "source": [
        "sport[\"John\"]"
      ],
      "execution_count": null,
      "outputs": [
        {
          "output_type": "execute_result",
          "data": {
            "application/vnd.google.colaboratory.intrinsic+json": {
              "type": "string"
            },
            "text/plain": [
              "'Soccer'"
            ]
          },
          "metadata": {
            "tags": []
          },
          "execution_count": 290
        }
      ]
    },
    {
      "cell_type": "code",
      "metadata": {
        "id": "3i0OS06edGZi"
      },
      "source": [
        "sport[\"John\"] = \"Tennis\""
      ],
      "execution_count": null,
      "outputs": []
    },
    {
      "cell_type": "code",
      "metadata": {
        "id": "3IIgt5UIdGZj",
        "colab": {
          "base_uri": "https://localhost:8080/"
        },
        "outputId": "cc4fdc62-f4ba-4dc9-a9be-6323836abfb3"
      },
      "source": [
        "sport"
      ],
      "execution_count": null,
      "outputs": [
        {
          "output_type": "execute_result",
          "data": {
            "text/plain": [
              "{'Jim': 'Baseball', 'John': 'Tennis', 'Paul': 'Football'}"
            ]
          },
          "metadata": {
            "tags": []
          },
          "execution_count": 292
        }
      ]
    },
    {
      "cell_type": "code",
      "metadata": {
        "id": "FfGvzLZ9dGZk"
      },
      "source": [
        "del sport[\"Paul\"]"
      ],
      "execution_count": null,
      "outputs": []
    },
    {
      "cell_type": "code",
      "metadata": {
        "id": "9C0UGckKdGZm",
        "colab": {
          "base_uri": "https://localhost:8080/"
        },
        "outputId": "95d726b9-1acc-4c70-983d-d38db1b968e0"
      },
      "source": [
        "sport"
      ],
      "execution_count": null,
      "outputs": [
        {
          "output_type": "execute_result",
          "data": {
            "text/plain": [
              "{'Jim': 'Baseball', 'John': 'Tennis'}"
            ]
          },
          "metadata": {
            "tags": []
          },
          "execution_count": 294
        }
      ]
    },
    {
      "cell_type": "markdown",
      "metadata": {
        "id": "4Wbs83pSdGZn"
      },
      "source": [
        "# <font color=darkblue>More Calculations with Python using the math library</font>\n",
        "https://docs.python.org/3.8/library/math.html \n",
        "\n",
        "A library is a body of already written code that can be imported and used by developers. It helps the work of developers\n",
        "\n",
        "The math library contains the commonly used math functions - from sin, cos to log and exp"
      ]
    },
    {
      "cell_type": "code",
      "metadata": {
        "id": "_l1HwD8vdGZo",
        "colab": {
          "base_uri": "https://localhost:8080/"
        },
        "outputId": "496a180d-c983-4dfd-ac2e-26dba8cccc78"
      },
      "source": [
        "import math \n",
        "math.pi"
      ],
      "execution_count": null,
      "outputs": [
        {
          "output_type": "execute_result",
          "data": {
            "text/plain": [
              "3.141592653589793"
            ]
          },
          "metadata": {
            "tags": []
          },
          "execution_count": 298
        }
      ]
    },
    {
      "cell_type": "code",
      "metadata": {
        "id": "mcndNIATdGZq",
        "colab": {
          "base_uri": "https://localhost:8080/"
        },
        "outputId": "34668f90-e6ec-4591-9523-ee2bdc043bbe"
      },
      "source": [
        "math.cos(0)"
      ],
      "execution_count": null,
      "outputs": [
        {
          "output_type": "execute_result",
          "data": {
            "text/plain": [
              "1.0"
            ]
          },
          "metadata": {
            "tags": []
          },
          "execution_count": 299
        }
      ]
    },
    {
      "cell_type": "code",
      "metadata": {
        "id": "ms4y7r0VdGZs",
        "colab": {
          "base_uri": "https://localhost:8080/"
        },
        "outputId": "020720f4-ae61-4c05-d5d7-cd8b37bf9aad"
      },
      "source": [
        "math.floor(3.4)"
      ],
      "execution_count": null,
      "outputs": [
        {
          "output_type": "execute_result",
          "data": {
            "text/plain": [
              "3"
            ]
          },
          "metadata": {
            "tags": []
          },
          "execution_count": 300
        }
      ]
    },
    {
      "cell_type": "code",
      "metadata": {
        "id": "Q8vwdHnUdGZt",
        "colab": {
          "base_uri": "https://localhost:8080/"
        },
        "outputId": "18e263f1-e05a-43dd-859d-d8c158db4311"
      },
      "source": [
        "math.ceil(3.4)"
      ],
      "execution_count": null,
      "outputs": [
        {
          "output_type": "execute_result",
          "data": {
            "text/plain": [
              "4"
            ]
          },
          "metadata": {
            "tags": []
          },
          "execution_count": 301
        }
      ]
    },
    {
      "cell_type": "code",
      "metadata": {
        "id": "3gzJHXl53OOb",
        "colab": {
          "base_uri": "https://localhost:8080/"
        },
        "outputId": "e31d0758-cc0b-4a62-b776-cb1b2c0e48df"
      },
      "source": [
        "math.cos(math.pi/2)"
      ],
      "execution_count": null,
      "outputs": [
        {
          "output_type": "execute_result",
          "data": {
            "text/plain": [
              "6.123233995736766e-17"
            ]
          },
          "metadata": {
            "tags": []
          },
          "execution_count": 302
        }
      ]
    },
    {
      "cell_type": "code",
      "metadata": {
        "id": "BE3gyCDE3VOX",
        "colab": {
          "base_uri": "https://localhost:8080/"
        },
        "outputId": "f8a23db0-af23-44b5-d536-3c7b3b240f16"
      },
      "source": [
        "math.sin(math.pi/2)"
      ],
      "execution_count": null,
      "outputs": [
        {
          "output_type": "execute_result",
          "data": {
            "text/plain": [
              "1.0"
            ]
          },
          "metadata": {
            "tags": []
          },
          "execution_count": 303
        }
      ]
    },
    {
      "cell_type": "markdown",
      "metadata": {
        "id": "63EfuvaxdGZv"
      },
      "source": [
        "# <font color=darkblue>Defining a Function</font>\n",
        "- A function is useful to organize and reuse code \n",
        "- Functions are introduced with the **def** keyword\n",
        "- A function takes 0 or more parameters\n",
        "- A function can do things or return a result\n",
        "- A function that returns a result uses the **return** keyword\n",
        "- BTW What is an *idendation*?\n",
        "  - Indentation is super important. It is used to delimit blocks and it has a meaning\n",
        "  - If you do not put indentation, you will get an error message "
      ]
    },
    {
      "cell_type": "code",
      "metadata": {
        "id": "oI0-KOJDdGZv"
      },
      "source": [
        "def simpleFunction(): \n",
        "  print(\"I made a function without parameters and without return\")"
      ],
      "execution_count": null,
      "outputs": []
    },
    {
      "cell_type": "code",
      "metadata": {
        "id": "B3PYLol8dGZw",
        "colab": {
          "base_uri": "https://localhost:8080/"
        },
        "outputId": "18f3d54c-67cf-4c6a-cb1f-22c72dd2bcfb"
      },
      "source": [
        "simpleFunction()"
      ],
      "execution_count": null,
      "outputs": [
        {
          "output_type": "stream",
          "text": [
            "I made a function without parameters and without return\n"
          ],
          "name": "stdout"
        }
      ]
    },
    {
      "cell_type": "code",
      "metadata": {
        "id": "Ey6t2fZddGZx"
      },
      "source": [
        "# square is a function with 1 parameter and return\n",
        "def square(x):\n",
        "  return x * x"
      ],
      "execution_count": null,
      "outputs": []
    },
    {
      "cell_type": "code",
      "metadata": {
        "id": "u7E0MLnedGZy",
        "colab": {
          "base_uri": "https://localhost:8080/"
        },
        "outputId": "733633af-b183-4387-95da-dcdf95a5114b"
      },
      "source": [
        "square(4)"
      ],
      "execution_count": null,
      "outputs": [
        {
          "output_type": "execute_result",
          "data": {
            "text/plain": [
              "16"
            ]
          },
          "metadata": {
            "tags": []
          },
          "execution_count": 319
        }
      ]
    },
    {
      "cell_type": "code",
      "metadata": {
        "id": "o-vS2M1MdGZz"
      },
      "source": [
        "# This is another way to write square\n",
        "def square(x):\n",
        "  y = x * x\n",
        "  return y"
      ],
      "execution_count": null,
      "outputs": []
    },
    {
      "cell_type": "code",
      "metadata": {
        "id": "TJ7uCuSVdGZ0",
        "colab": {
          "base_uri": "https://localhost:8080/"
        },
        "outputId": "cad94678-afb5-4e3f-9920-7493fc408efe"
      },
      "source": [
        "square(5)"
      ],
      "execution_count": null,
      "outputs": [
        {
          "output_type": "execute_result",
          "data": {
            "text/plain": [
              "25"
            ]
          },
          "metadata": {
            "tags": []
          },
          "execution_count": 323
        }
      ]
    },
    {
      "cell_type": "markdown",
      "metadata": {
        "id": "6QGh3Jtv5Jyk"
      },
      "source": [
        "***\n",
        "<h2 style=\"background-color: yellow; color: darkred;\">Exercise</h2>\n",
        "\n",
        "* Define a function that returns 2^n\n",
        "***"
      ]
    },
    {
      "cell_type": "markdown",
      "metadata": {
        "id": "8HKhS_gddGZ1"
      },
      "source": [
        "# <font color=darkblue>If Statements</font>\n",
        "- `if`, `elif` and `else` are used to write conditionals\n",
        "- Indentation is used to delimit blocks"
      ]
    },
    {
      "cell_type": "code",
      "metadata": {
        "id": "LhwStZ92dGZ1",
        "colab": {
          "base_uri": "https://localhost:8080/"
        },
        "outputId": "accdb243-4f46-4c7a-d3b5-48ea8be79921"
      },
      "source": [
        "x = -1\n",
        "if x < 0:\n",
        "    print (\"Negative number\")"
      ],
      "execution_count": null,
      "outputs": [
        {
          "output_type": "stream",
          "text": [
            "Negative number\n"
          ],
          "name": "stdout"
        }
      ]
    },
    {
      "cell_type": "code",
      "metadata": {
        "id": "ta7hZtFddGZ2",
        "colab": {
          "base_uri": "https://localhost:8080/"
        },
        "outputId": "924c14ec-92a0-4507-b71a-41f0952468dd"
      },
      "source": [
        "x = -5 # you can change the value of x to try this out \n",
        "if x < 0: # condition is True \n",
        "  print (\"<0\")\n",
        "else: # condition is False\n",
        "  print (\">= 0\")"
      ],
      "execution_count": null,
      "outputs": [
        {
          "output_type": "stream",
          "text": [
            "<0\n"
          ],
          "name": "stdout"
        }
      ]
    },
    {
      "cell_type": "code",
      "metadata": {
        "id": "O0P5LWP6dGZ3"
      },
      "source": [
        "if x == 0:\n",
        "    print(\"Zero number\")\n",
        "elif x < 0:\n",
        "    print (\"Negative number\")\n",
        "else:\n",
        "    print (\"Positive number\")"
      ],
      "execution_count": null,
      "outputs": []
    },
    {
      "cell_type": "markdown",
      "metadata": {
        "id": "c-5RjTg75iwy"
      },
      "source": [
        "***\n",
        "<h2 style=\"background-color: yellow; color: darkred;\">Exercise</h2>\n",
        "\n",
        "* Define a function that returns the max of 2 ints, and then of 3 ints\n",
        "***"
      ]
    },
    {
      "cell_type": "markdown",
      "metadata": {
        "id": "U3c4a8TtdGZ5"
      },
      "source": [
        "***\n",
        "# <font color=\"darkblue\">Solution</font>\n",
        "\n",
        "***"
      ]
    },
    {
      "cell_type": "markdown",
      "metadata": {
        "id": "fFCTIQuoJSUf"
      },
      "source": [
        "This is one solution of max3. What is yours?"
      ]
    },
    {
      "cell_type": "code",
      "metadata": {
        "id": "y20ne4eP4oEW"
      },
      "source": [
        "def max3(x, y, z):\n",
        "    max = x\n",
        "    if y > max:\n",
        "        max = y    \n",
        "    if z > max:\n",
        "        max = z\n",
        "        if y > z:\n",
        "            max = y\n",
        "    print(\"The max of \" + str(x) + \", \" + str(y) + \", \" + str(z) + \" is \" + str(max))\n",
        "    return max"
      ],
      "execution_count": null,
      "outputs": []
    },
    {
      "cell_type": "markdown",
      "metadata": {
        "id": "Uu26-UpK7Rw2"
      },
      "source": [
        "<h2 style=\"background-color: yellow; color: darkred;\">Exercise</h2>\n",
        "\n",
        "* Define a function that compares the lengths of 2 strings and returns the longest string. If the 2 strings have the same length, return the concatenation of the 2 strings\n",
        "***"
      ]
    },
    {
      "cell_type": "markdown",
      "metadata": {
        "id": "M95prbJrdGZ5"
      },
      "source": [
        "# <font color=\"darkblue\">Loops</font>\n",
        "\n",
        "* Loops are used to repeat pieces of code\n",
        "* There are for and while loops\n",
        "* We use **for** when we know how many times we need to repeat code\n",
        "* We use **while** to repeat code while a condition stands"
      ]
    },
    {
      "cell_type": "code",
      "metadata": {
        "id": "3SFxAw1_dGZ6"
      },
      "source": [
        "# print Hello World 5 times using range\n",
        "# range(0,5) -> 0, 1, 2, 3, 4 (5-1)\n",
        "for x in range(0,5):\n",
        "    #print(x)\n",
        "    print(\"Hello World\")"
      ],
      "execution_count": null,
      "outputs": []
    },
    {
      "cell_type": "code",
      "metadata": {
        "id": "w5WOmg15dGZ7",
        "colab": {
          "base_uri": "https://localhost:8080/"
        },
        "outputId": "8b9cc876-1e33-4af2-8cb1-2b63e86fbd24"
      },
      "source": [
        "# print the elements of a list using in\n",
        "my_list = [10,2,3]\n",
        "for elt in my_list:\n",
        "    print(elt)"
      ],
      "execution_count": null,
      "outputs": [
        {
          "output_type": "stream",
          "text": [
            "10\n",
            "2\n",
            "3\n"
          ],
          "name": "stdout"
        }
      ]
    },
    {
      "cell_type": "code",
      "metadata": {
        "id": "jZh4UgiAf56k",
        "colab": {
          "base_uri": "https://localhost:8080/"
        },
        "outputId": "bf13dede-0596-42ae-fa58-413140da3b56"
      },
      "source": [
        "# sum of th elements of a list\n",
        "\n",
        "# review of the notation x = x + ...\n",
        "x = 0\n",
        "x = x + 10 # x is 10. new x value = old x value + 10\n",
        "\n",
        "# sum of the elements of a list\n",
        "# initialize the sum to 0\n",
        "sum = 0\n",
        "\n",
        "# go through the list and add the elt to the sum\n",
        "# pattern matching\n",
        "for elt in my_list:\n",
        "  sum = sum + elt\n",
        "\n",
        "print(sum)"
      ],
      "execution_count": null,
      "outputs": [
        {
          "output_type": "stream",
          "text": [
            "15\n"
          ],
          "name": "stdout"
        }
      ]
    },
    {
      "cell_type": "code",
      "metadata": {
        "id": "FaJF6zC5QGeC"
      },
      "source": [
        "# print i while the condition is true\n",
        "i = 1 # initialize i\n",
        "while i < 6:\n",
        "  print(i)\n",
        "  i += 1 # update i. i = i+1"
      ],
      "execution_count": null,
      "outputs": []
    },
    {
      "cell_type": "markdown",
      "metadata": {
        "id": "ozLyw-HFA-R8"
      },
      "source": [
        "***\n",
        "# <font color=darkgreen>Arrays, Series, DataFrame</font>\n",
        "***"
      ]
    },
    {
      "cell_type": "markdown",
      "metadata": {
        "id": "nu8utkCxdGah"
      },
      "source": [
        "# <font color=\"darkblue\">Arrays</font>\n",
        "- `NumPy` defines _n_-dimensional array objects (`ndarray`) of data of the same type and size\n",
        "- Arrays allow operations between arrays and scalars "
      ]
    },
    {
      "cell_type": "code",
      "metadata": {
        "id": "fPYOnXpWdGah",
        "colab": {
          "base_uri": "https://localhost:8080/"
        },
        "outputId": "e79f1845-f4bf-4047-93d2-651305c1d5a2"
      },
      "source": [
        "# lists are appropriate to create an array\n",
        "import numpy as np\n",
        "data = [6, 5, 9, 8]\n",
        "arr = np.array(data)\n",
        "arr"
      ],
      "execution_count": null,
      "outputs": [
        {
          "output_type": "execute_result",
          "data": {
            "text/plain": [
              "array([6, 5, 9, 8])"
            ]
          },
          "metadata": {
            "tags": []
          },
          "execution_count": 332
        }
      ]
    },
    {
      "cell_type": "code",
      "metadata": {
        "colab": {
          "base_uri": "https://localhost:8080/"
        },
        "id": "jN0-ZUi5-CZz",
        "outputId": "45e0004a-4f72-4661-cb02-c9f9fa7ea941"
      },
      "source": [
        "type(arr)"
      ],
      "execution_count": null,
      "outputs": [
        {
          "output_type": "execute_result",
          "data": {
            "text/plain": [
              "numpy.ndarray"
            ]
          },
          "metadata": {
            "tags": []
          },
          "execution_count": 334
        }
      ]
    },
    {
      "cell_type": "code",
      "metadata": {
        "id": "TitJWVBPdGaj",
        "colab": {
          "base_uri": "https://localhost:8080/"
        },
        "outputId": "abec2a3d-4fdb-46c4-8321-1058beb56fa0"
      },
      "source": [
        "# operations on arrays\n",
        "arr * arr"
      ],
      "execution_count": null,
      "outputs": [
        {
          "output_type": "execute_result",
          "data": {
            "text/plain": [
              "array([36, 25, 81, 64])"
            ]
          },
          "metadata": {
            "tags": []
          },
          "execution_count": 335
        }
      ]
    },
    {
      "cell_type": "code",
      "metadata": {
        "id": "bwUo8x_Nzau3",
        "colab": {
          "base_uri": "https://localhost:8080/"
        },
        "outputId": "3bcd622b-d946-4712-af30-af361384f527"
      },
      "source": [
        "arr + arr"
      ],
      "execution_count": null,
      "outputs": [
        {
          "output_type": "execute_result",
          "data": {
            "text/plain": [
              "array([12, 10, 18, 16])"
            ]
          },
          "metadata": {
            "tags": []
          },
          "execution_count": 336
        }
      ]
    },
    {
      "cell_type": "code",
      "metadata": {
        "id": "PprOnYAgdGaj",
        "colab": {
          "base_uri": "https://localhost:8080/"
        },
        "outputId": "276a3005-ac40-4d9a-9b96-fe1f7212fe04"
      },
      "source": [
        "# operation with scalar\n",
        "1/arr"
      ],
      "execution_count": null,
      "outputs": [
        {
          "output_type": "execute_result",
          "data": {
            "text/plain": [
              "array([0.16666667, 0.2       , 0.11111111, 0.125     ])"
            ]
          },
          "metadata": {
            "tags": []
          },
          "execution_count": 337
        }
      ]
    },
    {
      "cell_type": "code",
      "metadata": {
        "id": "NPd-aba1zj8I",
        "colab": {
          "base_uri": "https://localhost:8080/"
        },
        "outputId": "86ed9ec6-159a-4ebd-fc18-e472fd38298c"
      },
      "source": [
        "arr ** 0.5"
      ],
      "execution_count": null,
      "outputs": [
        {
          "output_type": "execute_result",
          "data": {
            "text/plain": [
              "array([2.44948974, 2.23606798, 3.        , 2.82842712])"
            ]
          },
          "metadata": {
            "tags": []
          },
          "execution_count": 338
        }
      ]
    },
    {
      "cell_type": "code",
      "metadata": {
        "colab": {
          "base_uri": "https://localhost:8080/"
        },
        "id": "eEtJo6Vj-tYT",
        "outputId": "44d4afa2-5a25-4353-862f-513e40064d15"
      },
      "source": [
        "type(data)"
      ],
      "execution_count": null,
      "outputs": [
        {
          "output_type": "execute_result",
          "data": {
            "text/plain": [
              "list"
            ]
          },
          "metadata": {
            "tags": []
          },
          "execution_count": 340
        }
      ]
    },
    {
      "cell_type": "code",
      "metadata": {
        "colab": {
          "base_uri": "https://localhost:8080/"
        },
        "id": "A5EgNC9S-viZ",
        "outputId": "0a65a2c8-5c5a-4b9f-a5f4-bd497307bb4b"
      },
      "source": [
        "type([data,data])"
      ],
      "execution_count": null,
      "outputs": [
        {
          "output_type": "execute_result",
          "data": {
            "text/plain": [
              "list"
            ]
          },
          "metadata": {
            "tags": []
          },
          "execution_count": 341
        }
      ]
    },
    {
      "cell_type": "code",
      "metadata": {
        "id": "-OCizwMRdGal",
        "colab": {
          "base_uri": "https://localhost:8080/"
        },
        "outputId": "b4423f83-8366-4fa3-c097-57caa103e8f7"
      },
      "source": [
        "# 2-dimensional array\n",
        "arr1 = np.array([data, data])\n",
        "print(arr1)"
      ],
      "execution_count": null,
      "outputs": [
        {
          "output_type": "stream",
          "text": [
            "[[6 5 9 8]\n",
            " [6 5 9 8]]\n"
          ],
          "name": "stdout"
        }
      ]
    },
    {
      "cell_type": "code",
      "metadata": {
        "id": "OOH-zByzcb65",
        "colab": {
          "base_uri": "https://localhost:8080/"
        },
        "outputId": "aa23d531-1597-4da5-8557-d7c957b3fdd8"
      },
      "source": [
        "arr1.shape"
      ],
      "execution_count": null,
      "outputs": [
        {
          "output_type": "execute_result",
          "data": {
            "text/plain": [
              "(2, 4)"
            ]
          },
          "metadata": {
            "tags": []
          },
          "execution_count": 342
        }
      ]
    },
    {
      "cell_type": "code",
      "metadata": {
        "id": "zlepUbVeeIrm",
        "colab": {
          "base_uri": "https://localhost:8080/"
        },
        "outputId": "80f86dde-51ab-43d7-93b8-c34243f3cf30"
      },
      "source": [
        "#number of rows\r\n",
        "nb_rows = arr1.shape[0]\r\n",
        "nb_rows"
      ],
      "execution_count": null,
      "outputs": [
        {
          "output_type": "execute_result",
          "data": {
            "text/plain": [
              "2"
            ]
          },
          "metadata": {
            "tags": []
          },
          "execution_count": 345
        }
      ]
    },
    {
      "cell_type": "code",
      "metadata": {
        "id": "pqVkomSFeQuo",
        "colab": {
          "base_uri": "https://localhost:8080/"
        },
        "outputId": "fa0c8e2e-f3df-4010-a4bc-b0e5b259d2f3"
      },
      "source": [
        "#number of columns\r\n",
        "nb_columns = arr1.shape[1]\r\n",
        "nb_columns"
      ],
      "execution_count": null,
      "outputs": [
        {
          "output_type": "execute_result",
          "data": {
            "text/plain": [
              "4"
            ]
          },
          "metadata": {
            "tags": []
          },
          "execution_count": 347
        }
      ]
    },
    {
      "cell_type": "markdown",
      "metadata": {
        "id": "7k8IDfd5dGam"
      },
      "source": [
        "# <font color=\"darkblue\">Series and DataFrame</font>\n",
        "- Pandas provides two important data structures: Series and DataFrame \n"
      ]
    },
    {
      "cell_type": "markdown",
      "metadata": {
        "id": "UpPIq3SjckIA"
      },
      "source": [
        "**Series**\n",
        "\n",
        "- A __Series__ is a one-dimensional labeled array containing data in **values** (of any `numpy` data type) and an associated array of data labels called **index**"
      ]
    },
    {
      "cell_type": "code",
      "metadata": {
        "id": "5NZ3Do11dGan",
        "colab": {
          "base_uri": "https://localhost:8080/"
        },
        "outputId": "e47424ca-3b3f-41c8-b6ab-c1248fea1346"
      },
      "source": [
        "import pandas as pd\n",
        "# series from a list\n",
        "s = pd.Series([4, 7, 5])\n",
        "s"
      ],
      "execution_count": null,
      "outputs": [
        {
          "output_type": "execute_result",
          "data": {
            "text/plain": [
              "0    4\n",
              "1    7\n",
              "2    5\n",
              "dtype: int64"
            ]
          },
          "metadata": {
            "tags": []
          },
          "execution_count": 348
        }
      ]
    },
    {
      "cell_type": "code",
      "metadata": {
        "id": "n8uJhoc7dGap",
        "colab": {
          "base_uri": "https://localhost:8080/"
        },
        "outputId": "5d097be7-3a89-4223-c6db-83273e7ec5d8"
      },
      "source": [
        "# the indices of the series are on the left and the values are on the right\n",
        "s.index    #RangeIndex(start=0, stop=3, step=1) "
      ],
      "execution_count": null,
      "outputs": [
        {
          "output_type": "execute_result",
          "data": {
            "text/plain": [
              "RangeIndex(start=0, stop=3, step=1)"
            ]
          },
          "metadata": {
            "tags": []
          },
          "execution_count": 349
        }
      ]
    },
    {
      "cell_type": "code",
      "metadata": {
        "id": "yhqTypWvdGao",
        "colab": {
          "base_uri": "https://localhost:8080/"
        },
        "outputId": "55225485-39e0-4991-ab50-6fa1fd869407"
      },
      "source": [
        "s.values   #array([4, 7, 5]) "
      ],
      "execution_count": null,
      "outputs": [
        {
          "output_type": "execute_result",
          "data": {
            "text/plain": [
              "array([4, 7, 5])"
            ]
          },
          "metadata": {
            "tags": []
          },
          "execution_count": 350
        }
      ]
    },
    {
      "cell_type": "code",
      "metadata": {
        "id": "z6LfUjdUdGar",
        "colab": {
          "base_uri": "https://localhost:8080/"
        },
        "outputId": "971affb0-2e92-4043-a7c6-aa700f35041f"
      },
      "source": [
        "# Another example\n",
        "# We can also create a series from a dictionary\n",
        "dict = {'Ohio' : 100, 'New York' : 5, 'New Jersey' : 50} \n",
        "s1 = pd.Series(dict)\n",
        "s1"
      ],
      "execution_count": null,
      "outputs": [
        {
          "output_type": "execute_result",
          "data": {
            "text/plain": [
              "Ohio          100\n",
              "New York        5\n",
              "New Jersey     50\n",
              "dtype: int64"
            ]
          },
          "metadata": {
            "tags": []
          },
          "execution_count": 352
        }
      ]
    },
    {
      "cell_type": "code",
      "metadata": {
        "id": "AjQp1yqC0-j_",
        "colab": {
          "base_uri": "https://localhost:8080/"
        },
        "outputId": "b9bc6f18-40cd-4bf3-a640-1c7790d30340"
      },
      "source": [
        "s1.index"
      ],
      "execution_count": null,
      "outputs": [
        {
          "output_type": "execute_result",
          "data": {
            "text/plain": [
              "Index(['Ohio', 'New York', 'New Jersey'], dtype='object')"
            ]
          },
          "metadata": {
            "tags": []
          },
          "execution_count": 353
        }
      ]
    },
    {
      "cell_type": "code",
      "metadata": {
        "id": "dSClJuov1A79",
        "colab": {
          "base_uri": "https://localhost:8080/"
        },
        "outputId": "24258192-2d4f-4bea-9ea0-96ee669d6ace"
      },
      "source": [
        "s1.values"
      ],
      "execution_count": null,
      "outputs": [
        {
          "output_type": "execute_result",
          "data": {
            "text/plain": [
              "array([100,   5,  50])"
            ]
          },
          "metadata": {
            "tags": []
          },
          "execution_count": 354
        }
      ]
    },
    {
      "cell_type": "code",
      "metadata": {
        "id": "NavdM1uCdGat",
        "colab": {
          "base_uri": "https://localhost:8080/"
        },
        "outputId": "ad678e3c-be85-4b6b-ce18-98439a5d411b"
      },
      "source": [
        "# Another example\n",
        "# We can also create a series from 2 arrays - values and index\n",
        "# pandas.Series( data, index)\n",
        "s2 = pd.Series([4,7,8], index=['a', 'b', 'c'])\n",
        "s2"
      ],
      "execution_count": null,
      "outputs": [
        {
          "output_type": "execute_result",
          "data": {
            "text/plain": [
              "a    4\n",
              "b    7\n",
              "c    8\n",
              "dtype: int64"
            ]
          },
          "metadata": {
            "tags": []
          },
          "execution_count": 357
        }
      ]
    },
    {
      "cell_type": "code",
      "metadata": {
        "id": "kiaK6tPN1OtJ",
        "colab": {
          "base_uri": "https://localhost:8080/"
        },
        "outputId": "f33035e8-f4ca-4c5a-f366-0a8b184c7295"
      },
      "source": [
        "s2.index"
      ],
      "execution_count": null,
      "outputs": [
        {
          "output_type": "execute_result",
          "data": {
            "text/plain": [
              "Index(['a', 'b', 'c'], dtype='object')"
            ]
          },
          "metadata": {
            "tags": []
          },
          "execution_count": 358
        }
      ]
    },
    {
      "cell_type": "code",
      "metadata": {
        "id": "SFIKfhHe1Rn0",
        "colab": {
          "base_uri": "https://localhost:8080/"
        },
        "outputId": "961afe15-1d48-4acb-ffe5-bb4c98b5dfde"
      },
      "source": [
        "s2.values"
      ],
      "execution_count": null,
      "outputs": [
        {
          "output_type": "execute_result",
          "data": {
            "text/plain": [
              "array([4, 7, 8])"
            ]
          },
          "metadata": {
            "tags": []
          },
          "execution_count": 359
        }
      ]
    },
    {
      "cell_type": "markdown",
      "metadata": {
        "id": "fuOIMF0kdGau"
      },
      "source": [
        "__DataFrame__\n",
        "\n",
        "- A __DataFrame__ is a (2-dimensional) spreadsheet-like data structure containing an ordered collection of columns (with often different value types). It has a row and column index\n",
        "\n",
        "- The most used pandas object"
      ]
    },
    {
      "cell_type": "code",
      "metadata": {
        "id": "w1Bhq4w-dGau",
        "colab": {
          "base_uri": "https://localhost:8080/",
          "height": 143
        },
        "outputId": "0782207e-19ee-41ca-a58d-52cdbf53c3f9"
      },
      "source": [
        "data =  {'state' : ['Ohio', 'New York', 'New Jersey'], 'year': [2000, 2001, 2002]}\n",
        "df = pd.DataFrame(data)\n",
        "df"
      ],
      "execution_count": null,
      "outputs": [
        {
          "output_type": "execute_result",
          "data": {
            "text/html": [
              "<div>\n",
              "<style scoped>\n",
              "    .dataframe tbody tr th:only-of-type {\n",
              "        vertical-align: middle;\n",
              "    }\n",
              "\n",
              "    .dataframe tbody tr th {\n",
              "        vertical-align: top;\n",
              "    }\n",
              "\n",
              "    .dataframe thead th {\n",
              "        text-align: right;\n",
              "    }\n",
              "</style>\n",
              "<table border=\"1\" class=\"dataframe\">\n",
              "  <thead>\n",
              "    <tr style=\"text-align: right;\">\n",
              "      <th></th>\n",
              "      <th>state</th>\n",
              "      <th>year</th>\n",
              "    </tr>\n",
              "  </thead>\n",
              "  <tbody>\n",
              "    <tr>\n",
              "      <th>0</th>\n",
              "      <td>Ohio</td>\n",
              "      <td>2000</td>\n",
              "    </tr>\n",
              "    <tr>\n",
              "      <th>1</th>\n",
              "      <td>New York</td>\n",
              "      <td>2001</td>\n",
              "    </tr>\n",
              "    <tr>\n",
              "      <th>2</th>\n",
              "      <td>New Jersey</td>\n",
              "      <td>2002</td>\n",
              "    </tr>\n",
              "  </tbody>\n",
              "</table>\n",
              "</div>"
            ],
            "text/plain": [
              "        state  year\n",
              "0        Ohio  2000\n",
              "1    New York  2001\n",
              "2  New Jersey  2002"
            ]
          },
          "metadata": {
            "tags": []
          },
          "execution_count": 360
        }
      ]
    },
    {
      "cell_type": "code",
      "metadata": {
        "id": "v2vElzqodGax",
        "colab": {
          "base_uri": "https://localhost:8080/"
        },
        "outputId": "c4407c4e-ca9d-4e8f-c3f8-ffcfd4246993"
      },
      "source": [
        "df.index"
      ],
      "execution_count": null,
      "outputs": [
        {
          "output_type": "execute_result",
          "data": {
            "text/plain": [
              "RangeIndex(start=0, stop=3, step=1)"
            ]
          },
          "metadata": {
            "tags": []
          },
          "execution_count": 361
        }
      ]
    },
    {
      "cell_type": "code",
      "metadata": {
        "id": "37Wlx9VYdGaw",
        "colab": {
          "base_uri": "https://localhost:8080/"
        },
        "outputId": "9d85b778-f5d8-459c-fa31-68b0920efab6"
      },
      "source": [
        "df.values"
      ],
      "execution_count": null,
      "outputs": [
        {
          "output_type": "execute_result",
          "data": {
            "text/plain": [
              "array([['Ohio', 2000],\n",
              "       ['New York', 2001],\n",
              "       ['New Jersey', 2002]], dtype=object)"
            ]
          },
          "metadata": {
            "tags": []
          },
          "execution_count": 362
        }
      ]
    },
    {
      "cell_type": "code",
      "metadata": {
        "id": "jUMTUh0EdGav",
        "colab": {
          "base_uri": "https://localhost:8080/"
        },
        "outputId": "3d8f70fb-8a4b-47cb-ce2c-ada2101c898c"
      },
      "source": [
        "df.columns"
      ],
      "execution_count": null,
      "outputs": [
        {
          "output_type": "execute_result",
          "data": {
            "text/plain": [
              "Index(['state', 'year'], dtype='object')"
            ]
          },
          "metadata": {
            "tags": []
          },
          "execution_count": 363
        }
      ]
    },
    {
      "cell_type": "code",
      "metadata": {
        "id": "Ze3BgSq-dGax",
        "colab": {
          "base_uri": "https://localhost:8080/",
          "height": 143
        },
        "outputId": "f379764c-566a-421a-d959-3353b24831f2"
      },
      "source": [
        "df.head() # By default 5 first rows"
      ],
      "execution_count": null,
      "outputs": [
        {
          "output_type": "execute_result",
          "data": {
            "text/html": [
              "<div>\n",
              "<style scoped>\n",
              "    .dataframe tbody tr th:only-of-type {\n",
              "        vertical-align: middle;\n",
              "    }\n",
              "\n",
              "    .dataframe tbody tr th {\n",
              "        vertical-align: top;\n",
              "    }\n",
              "\n",
              "    .dataframe thead th {\n",
              "        text-align: right;\n",
              "    }\n",
              "</style>\n",
              "<table border=\"1\" class=\"dataframe\">\n",
              "  <thead>\n",
              "    <tr style=\"text-align: right;\">\n",
              "      <th></th>\n",
              "      <th>state</th>\n",
              "      <th>year</th>\n",
              "    </tr>\n",
              "  </thead>\n",
              "  <tbody>\n",
              "    <tr>\n",
              "      <th>0</th>\n",
              "      <td>Ohio</td>\n",
              "      <td>2000</td>\n",
              "    </tr>\n",
              "    <tr>\n",
              "      <th>1</th>\n",
              "      <td>New York</td>\n",
              "      <td>2001</td>\n",
              "    </tr>\n",
              "    <tr>\n",
              "      <th>2</th>\n",
              "      <td>New Jersey</td>\n",
              "      <td>2002</td>\n",
              "    </tr>\n",
              "  </tbody>\n",
              "</table>\n",
              "</div>"
            ],
            "text/plain": [
              "        state  year\n",
              "0        Ohio  2000\n",
              "1    New York  2001\n",
              "2  New Jersey  2002"
            ]
          },
          "metadata": {
            "tags": []
          },
          "execution_count": 364
        }
      ]
    },
    {
      "cell_type": "code",
      "metadata": {
        "id": "RsrmCm3-dGay",
        "colab": {
          "base_uri": "https://localhost:8080/",
          "height": 143
        },
        "outputId": "a867aed9-1bb9-4bb1-ca98-6f216485be13"
      },
      "source": [
        "df.tail() # 5 last rows"
      ],
      "execution_count": null,
      "outputs": [
        {
          "output_type": "execute_result",
          "data": {
            "text/html": [
              "<div>\n",
              "<style scoped>\n",
              "    .dataframe tbody tr th:only-of-type {\n",
              "        vertical-align: middle;\n",
              "    }\n",
              "\n",
              "    .dataframe tbody tr th {\n",
              "        vertical-align: top;\n",
              "    }\n",
              "\n",
              "    .dataframe thead th {\n",
              "        text-align: right;\n",
              "    }\n",
              "</style>\n",
              "<table border=\"1\" class=\"dataframe\">\n",
              "  <thead>\n",
              "    <tr style=\"text-align: right;\">\n",
              "      <th></th>\n",
              "      <th>state</th>\n",
              "      <th>year</th>\n",
              "    </tr>\n",
              "  </thead>\n",
              "  <tbody>\n",
              "    <tr>\n",
              "      <th>0</th>\n",
              "      <td>Ohio</td>\n",
              "      <td>2000</td>\n",
              "    </tr>\n",
              "    <tr>\n",
              "      <th>1</th>\n",
              "      <td>New York</td>\n",
              "      <td>2001</td>\n",
              "    </tr>\n",
              "    <tr>\n",
              "      <th>2</th>\n",
              "      <td>New Jersey</td>\n",
              "      <td>2002</td>\n",
              "    </tr>\n",
              "  </tbody>\n",
              "</table>\n",
              "</div>"
            ],
            "text/plain": [
              "        state  year\n",
              "0        Ohio  2000\n",
              "1    New York  2001\n",
              "2  New Jersey  2002"
            ]
          },
          "metadata": {
            "tags": []
          },
          "execution_count": 365
        }
      ]
    },
    {
      "cell_type": "code",
      "metadata": {
        "id": "vNKPWIKSdGaz",
        "colab": {
          "base_uri": "https://localhost:8080/"
        },
        "outputId": "5c84933c-3b82-45e8-bd78-8fd0597104a6"
      },
      "source": [
        "df.shape # number of rows and columns in this order"
      ],
      "execution_count": null,
      "outputs": [
        {
          "output_type": "execute_result",
          "data": {
            "text/plain": [
              "(3, 2)"
            ]
          },
          "metadata": {
            "tags": []
          },
          "execution_count": 372
        }
      ]
    },
    {
      "cell_type": "code",
      "metadata": {
        "id": "zL5wHtoudGa2",
        "colab": {
          "base_uri": "https://localhost:8080/"
        },
        "outputId": "3c944b03-a7e3-4d23-f1ca-8ab1da163e9c"
      },
      "source": [
        "df.iloc[1] # row1"
      ],
      "execution_count": null,
      "outputs": [
        {
          "output_type": "execute_result",
          "data": {
            "text/plain": [
              "state    New York\n",
              "year         2001\n",
              "Name: 1, dtype: object"
            ]
          },
          "metadata": {
            "tags": []
          },
          "execution_count": 367
        }
      ]
    },
    {
      "cell_type": "code",
      "metadata": {
        "id": "j_nRq_j3dGa2",
        "colab": {
          "base_uri": "https://localhost:8080/",
          "height": 36
        },
        "outputId": "77014068-45f6-4b1a-a681-11cc607d4de3"
      },
      "source": [
        "df.iloc[1]['state'] # specific element"
      ],
      "execution_count": null,
      "outputs": [
        {
          "output_type": "execute_result",
          "data": {
            "application/vnd.google.colaboratory.intrinsic+json": {
              "type": "string"
            },
            "text/plain": [
              "'New York'"
            ]
          },
          "metadata": {
            "tags": []
          },
          "execution_count": 368
        }
      ]
    },
    {
      "cell_type": "code",
      "metadata": {
        "id": "OLvGhmXRdGa3",
        "colab": {
          "base_uri": "https://localhost:8080/",
          "height": 143
        },
        "outputId": "57c620a2-cf34-4e88-c5ee-e39076e8bb7b"
      },
      "source": [
        "df.index = ['row1', 'row2', 'row3'] # renaming the index\n",
        "df"
      ],
      "execution_count": null,
      "outputs": [
        {
          "output_type": "execute_result",
          "data": {
            "text/html": [
              "<div>\n",
              "<style scoped>\n",
              "    .dataframe tbody tr th:only-of-type {\n",
              "        vertical-align: middle;\n",
              "    }\n",
              "\n",
              "    .dataframe tbody tr th {\n",
              "        vertical-align: top;\n",
              "    }\n",
              "\n",
              "    .dataframe thead th {\n",
              "        text-align: right;\n",
              "    }\n",
              "</style>\n",
              "<table border=\"1\" class=\"dataframe\">\n",
              "  <thead>\n",
              "    <tr style=\"text-align: right;\">\n",
              "      <th></th>\n",
              "      <th>state</th>\n",
              "      <th>year</th>\n",
              "    </tr>\n",
              "  </thead>\n",
              "  <tbody>\n",
              "    <tr>\n",
              "      <th>row1</th>\n",
              "      <td>Ohio</td>\n",
              "      <td>2000</td>\n",
              "    </tr>\n",
              "    <tr>\n",
              "      <th>row2</th>\n",
              "      <td>New York</td>\n",
              "      <td>2001</td>\n",
              "    </tr>\n",
              "    <tr>\n",
              "      <th>row3</th>\n",
              "      <td>New Jersey</td>\n",
              "      <td>2002</td>\n",
              "    </tr>\n",
              "  </tbody>\n",
              "</table>\n",
              "</div>"
            ],
            "text/plain": [
              "           state  year\n",
              "row1        Ohio  2000\n",
              "row2    New York  2001\n",
              "row3  New Jersey  2002"
            ]
          },
          "metadata": {
            "tags": []
          },
          "execution_count": 369
        }
      ]
    },
    {
      "cell_type": "code",
      "metadata": {
        "id": "POiWz_dKdGa4",
        "colab": {
          "base_uri": "https://localhost:8080/",
          "height": 143
        },
        "outputId": "30d495b9-58af-4c42-ae5f-c543c8a6ae3e"
      },
      "source": [
        "df.replace(['New York'], ['NY']) #replace a value"
      ],
      "execution_count": null,
      "outputs": [
        {
          "output_type": "execute_result",
          "data": {
            "text/html": [
              "<div>\n",
              "<style scoped>\n",
              "    .dataframe tbody tr th:only-of-type {\n",
              "        vertical-align: middle;\n",
              "    }\n",
              "\n",
              "    .dataframe tbody tr th {\n",
              "        vertical-align: top;\n",
              "    }\n",
              "\n",
              "    .dataframe thead th {\n",
              "        text-align: right;\n",
              "    }\n",
              "</style>\n",
              "<table border=\"1\" class=\"dataframe\">\n",
              "  <thead>\n",
              "    <tr style=\"text-align: right;\">\n",
              "      <th></th>\n",
              "      <th>state</th>\n",
              "      <th>year</th>\n",
              "    </tr>\n",
              "  </thead>\n",
              "  <tbody>\n",
              "    <tr>\n",
              "      <th>row1</th>\n",
              "      <td>Ohio</td>\n",
              "      <td>2000</td>\n",
              "    </tr>\n",
              "    <tr>\n",
              "      <th>row2</th>\n",
              "      <td>NY</td>\n",
              "      <td>2001</td>\n",
              "    </tr>\n",
              "    <tr>\n",
              "      <th>row3</th>\n",
              "      <td>New Jersey</td>\n",
              "      <td>2002</td>\n",
              "    </tr>\n",
              "  </tbody>\n",
              "</table>\n",
              "</div>"
            ],
            "text/plain": [
              "           state  year\n",
              "row1        Ohio  2000\n",
              "row2          NY  2001\n",
              "row3  New Jersey  2002"
            ]
          },
          "metadata": {
            "tags": []
          },
          "execution_count": 370
        }
      ]
    },
    {
      "cell_type": "code",
      "metadata": {
        "id": "GhjpGrUcdGa5",
        "colab": {
          "base_uri": "https://localhost:8080/"
        },
        "outputId": "0c727631-ee67-4a41-e57d-504f1596fc51"
      },
      "source": [
        "df.columns = ['state', 'newyear'] # renaming the columns\n",
        "print(df.columns)\n",
        "print(df)"
      ],
      "execution_count": null,
      "outputs": [
        {
          "output_type": "stream",
          "text": [
            "Index(['state', 'newyear'], dtype='object')\n",
            "           state  newyear\n",
            "row1        Ohio     2000\n",
            "row2    New York     2001\n",
            "row3  New Jersey     2002\n"
          ],
          "name": "stdout"
        }
      ]
    },
    {
      "cell_type": "markdown",
      "metadata": {
        "id": "oxDQtz_tdGbq"
      },
      "source": [
        "# <font color=darkgreen></font>\n",
        "\n",
        "<table>\n",
        "   <img src=\"http://webpage.pace.edu/fparisi/STEM-2020/images/Logo.jpg\"\n",
        "             width=\"800\">\n",
        "</table>"
      ]
    }
  ]
}